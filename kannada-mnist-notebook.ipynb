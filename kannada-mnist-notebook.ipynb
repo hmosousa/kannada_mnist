{
 "cells": [
  {
   "cell_type": "code",
   "execution_count": 2,
   "metadata": {
    "execution": {
     "iopub.execute_input": "2020-10-12T07:26:18.955153Z",
     "iopub.status.busy": "2020-10-12T07:26:18.954335Z",
     "iopub.status.idle": "2020-10-12T07:26:24.896679Z",
     "shell.execute_reply": "2020-10-12T07:26:24.895465Z"
    },
    "papermill": {
     "duration": 5.982367,
     "end_time": "2020-10-12T07:26:24.896819",
     "exception": false,
     "start_time": "2020-10-12T07:26:18.914452",
     "status": "completed"
    },
    "tags": []
   },
   "outputs": [],
   "source": [
    "import pandas as pd\n",
    "\n",
    "import numpy as np\n",
    "\n",
    "import tensorflow as tf\n",
    "\n",
    "from tensorflow.keras import layers\n",
    "from tensorflow.keras import models\n",
    "from tensorflow.keras import optimizers\n",
    "from tensorflow.keras import losses\n",
    "from tensorflow.keras import metrics\n",
    "from tensorflow.keras import callbacks\n",
    "\n",
    "import matplotlib.pyplot as plt\n",
    "\n",
    "\n",
    "from sklearn.model_selection import train_test_split\n",
    "\n",
    "from sklearn.metrics import confusion_matrix\n",
    "from sklearn.metrics import accuracy_score"
   ]
  },
  {
   "cell_type": "markdown",
   "metadata": {
    "papermill": {
     "duration": 0.029484,
     "end_time": "2020-10-12T07:26:24.955794",
     "exception": false,
     "start_time": "2020-10-12T07:26:24.926310",
     "status": "completed"
    },
    "tags": []
   },
   "source": [
    "# Load data"
   ]
  },
  {
   "cell_type": "markdown",
   "metadata": {
    "papermill": {
     "duration": 0.030769,
     "end_time": "2020-10-12T07:26:25.017078",
     "exception": false,
     "start_time": "2020-10-12T07:26:24.986309",
     "status": "completed"
    },
    "tags": []
   },
   "source": [
    "## Kannada MNIST\n",
    "\n",
    "The kannada MNIST dataset is a handwritten digits dataset which is similar to the classic MNIST dataset for the Kannada language. This dataset was used in one Kaggle playground competitions at the end of 2019. Lets take a look at it."
   ]
  },
  {
   "cell_type": "code",
   "execution_count": 3,
   "metadata": {
    "execution": {
     "iopub.execute_input": "2020-10-12T07:26:25.088388Z",
     "iopub.status.busy": "2020-10-12T07:26:25.087414Z",
     "iopub.status.idle": "2020-10-12T07:26:25.089914Z",
     "shell.execute_reply": "2020-10-12T07:26:25.090491Z"
    },
    "papermill": {
     "duration": 0.042477,
     "end_time": "2020-10-12T07:26:25.090631",
     "exception": false,
     "start_time": "2020-10-12T07:26:25.048154",
     "status": "completed"
    },
    "tags": []
   },
   "outputs": [],
   "source": [
    "def read_kannada_dataset(path):\n",
    "    dataset = pd.read_csv(path)\n",
    "    \n",
    "    y = dataset.iloc[:, 0].values \n",
    "\n",
    "    X = dataset.iloc[:, 1:].values / 255.\n",
    "\n",
    "    X = X / X.max(axis=1, keepdims=True) # make all images range from 0 to 1.\n",
    "    X = X.reshape((len(X), 28, 28))\n",
    "    X = X[..., np.newaxis]\n",
    "    \n",
    "    return X, y"
   ]
  },
  {
   "cell_type": "code",
   "execution_count": 4,
   "metadata": {
    "execution": {
     "iopub.execute_input": "2020-10-12T07:26:25.158502Z",
     "iopub.status.busy": "2020-10-12T07:26:25.157822Z",
     "iopub.status.idle": "2020-10-12T07:26:30.801670Z",
     "shell.execute_reply": "2020-10-12T07:26:30.800592Z"
    },
    "papermill": {
     "duration": 5.681112,
     "end_time": "2020-10-12T07:26:30.801805",
     "exception": false,
     "start_time": "2020-10-12T07:26:25.120693",
     "status": "completed"
    },
    "tags": []
   },
   "outputs": [],
   "source": [
    "X, y = read_kannada_dataset(r\"data/train.csv\")\n",
    "\n",
    "# Split full train set into train and validation.\n",
    "X_train, X_valid, y_train, y_valid = train_test_split(X, y, stratify=y, test_size=0.2,  random_state=123)"
   ]
  },
  {
   "cell_type": "code",
   "execution_count": 5,
   "metadata": {
    "execution": {
     "iopub.execute_input": "2020-10-12T07:26:30.868492Z",
     "iopub.status.busy": "2020-10-12T07:26:30.867605Z",
     "iopub.status.idle": "2020-10-12T07:26:30.870393Z",
     "shell.execute_reply": "2020-10-12T07:26:30.871003Z"
    },
    "papermill": {
     "duration": 0.039286,
     "end_time": "2020-10-12T07:26:30.871142",
     "exception": false,
     "start_time": "2020-10-12T07:26:30.831856",
     "status": "completed"
    },
    "tags": []
   },
   "outputs": [],
   "source": [
    "def plot_kannada(X, y, num_images):\n",
    "    plt.figure(figsize=(10, 8))\n",
    "    for idx in range(num_images):\n",
    "        plt.subplot(num_images // 5, 5, idx+1)\n",
    "        plt.imshow(X[idx].reshape(28, 28), cmap=\"gray\")\n",
    "        plt.title(y[idx], fontsize=16)\n",
    "        plt.axis(\"off\")"
   ]
  },
  {
   "cell_type": "code",
   "execution_count": 6,
   "metadata": {
    "execution": {
     "iopub.execute_input": "2020-10-12T07:26:30.936989Z",
     "iopub.status.busy": "2020-10-12T07:26:30.936312Z",
     "iopub.status.idle": "2020-10-12T07:26:31.797824Z",
     "shell.execute_reply": "2020-10-12T07:26:31.799247Z"
    },
    "papermill": {
     "duration": 0.897685,
     "end_time": "2020-10-12T07:26:31.799478",
     "exception": false,
     "start_time": "2020-10-12T07:26:30.901793",
     "status": "completed"
    },
    "tags": []
   },
   "outputs": [
    {
     "data": {
      "image/png": "[encoded data removed]",
      "text/plain": [
       "<Figure size 720x576 with 20 Axes>"
      ]
     },
     "metadata": {
      "needs_background": "light"
     },
     "output_type": "display_data"
    }
   ],
   "source": [
    "plot_kannada(X_train, y_train, 20)\n",
    "plt.show()"
   ]
  },
  {
   "cell_type": "markdown",
   "metadata": {
    "papermill": {
     "duration": 0.051449,
     "end_time": "2020-10-12T07:26:31.901142",
     "exception": false,
     "start_time": "2020-10-12T07:26:31.849693",
     "status": "completed"
    },
    "tags": []
   },
   "source": [
    "Now lets look at the test set."
   ]
  },
  {
   "cell_type": "code",
   "execution_count": 7,
   "metadata": {
    "execution": {
     "iopub.execute_input": "2020-10-12T07:26:32.029288Z",
     "iopub.status.busy": "2020-10-12T07:26:32.028042Z",
     "iopub.status.idle": "2020-10-12T07:26:32.600296Z",
     "shell.execute_reply": "2020-10-12T07:26:32.600990Z"
    },
    "papermill": {
     "duration": 0.647885,
     "end_time": "2020-10-12T07:26:32.601190",
     "exception": false,
     "start_time": "2020-10-12T07:26:31.953305",
     "status": "completed"
    },
    "tags": []
   },
   "outputs": [],
   "source": [
    "X_test, id_test = read_kannada_dataset(r\"data/test.csv\")"
   ]
  },
  {
   "cell_type": "code",
   "execution_count": 8,
   "metadata": {
    "execution": {
     "iopub.execute_input": "2020-10-12T07:26:32.684972Z",
     "iopub.status.busy": "2020-10-12T07:26:32.684013Z",
     "iopub.status.idle": "2020-10-12T07:26:33.595376Z",
     "shell.execute_reply": "2020-10-12T07:26:33.594683Z"
    },
    "papermill": {
     "duration": 0.956983,
     "end_time": "2020-10-12T07:26:33.595516",
     "exception": false,
     "start_time": "2020-10-12T07:26:32.638533",
     "status": "completed"
    },
    "tags": []
   },
   "outputs": [
    {
     "data": {
      "image/png": "[encoded data removed]",
      "text/plain": [
       "<Figure size 720x576 with 20 Axes>"
      ]
     },
     "metadata": {
      "needs_background": "light"
     },
     "output_type": "display_data"
    }
   ],
   "source": [
    "plot_kannada(X_test, id_test, 20)\n",
    "plt.show()"
   ]
  },
  {
   "cell_type": "markdown",
   "metadata": {
    "papermill": {
     "duration": 0.044544,
     "end_time": "2020-10-12T07:26:33.699895",
     "exception": false,
     "start_time": "2020-10-12T07:26:33.655351",
     "status": "completed"
    },
    "tags": []
   },
   "source": [
    "By looking at the images in the test set the seem less clear than the ones on the train set. So lets creat a data generator that will disotrt the images on the train set. This will help the model to learn more generalized patterns."
   ]
  },
  {
   "cell_type": "code",
   "execution_count": 9,
   "metadata": {
    "execution": {
     "iopub.execute_input": "2020-10-12T07:26:33.776053Z",
     "iopub.status.busy": "2020-10-12T07:26:33.775416Z",
     "iopub.status.idle": "2020-10-12T07:26:33.779290Z",
     "shell.execute_reply": "2020-10-12T07:26:33.779772Z"
    },
    "papermill": {
     "duration": 0.044884,
     "end_time": "2020-10-12T07:26:33.779900",
     "exception": false,
     "start_time": "2020-10-12T07:26:33.735016",
     "status": "completed"
    },
    "tags": []
   },
   "outputs": [],
   "source": [
    "data_generator = tf.keras.preprocessing.image.ImageDataGenerator(\n",
    "    rotation_range=10,\n",
    "    width_shift_range=0.25,\n",
    "    height_shift_range = 0.25,\n",
    "    shear_range = 0.15,\n",
    "    zoom_range = 0.4,\n",
    "    horizontal_flip = False\n",
    ")"
   ]
  },
  {
   "cell_type": "code",
   "execution_count": 10,
   "metadata": {
    "execution": {
     "iopub.execute_input": "2020-10-12T07:26:33.857882Z",
     "iopub.status.busy": "2020-10-12T07:26:33.856574Z",
     "iopub.status.idle": "2020-10-12T07:26:33.979163Z",
     "shell.execute_reply": "2020-10-12T07:26:33.978541Z"
    },
    "papermill": {
     "duration": 0.162784,
     "end_time": "2020-10-12T07:26:33.979287",
     "exception": false,
     "start_time": "2020-10-12T07:26:33.816503",
     "status": "completed"
    },
    "tags": []
   },
   "outputs": [],
   "source": [
    "data_generator.fit(X_train)"
   ]
  },
  {
   "cell_type": "code",
   "execution_count": 11,
   "metadata": {
    "execution": {
     "iopub.execute_input": "2020-10-12T07:26:34.059995Z",
     "iopub.status.busy": "2020-10-12T07:26:34.058577Z",
     "iopub.status.idle": "2020-10-12T07:26:34.888930Z",
     "shell.execute_reply": "2020-10-12T07:26:34.889532Z"
    },
    "papermill": {
     "duration": 0.874078,
     "end_time": "2020-10-12T07:26:34.889685",
     "exception": false,
     "start_time": "2020-10-12T07:26:34.015607",
     "status": "completed"
    },
    "tags": []
   },
   "outputs": [
    {
     "data": {
      "image/png": "[encoded data removed]",
      "text/plain": [
       "<Figure size 720x576 with 20 Axes>"
      ]
     },
     "metadata": {
      "needs_background": "light"
     },
     "output_type": "display_data"
    }
   ],
   "source": [
    "for X_batch, y_batch in data_generator.flow(X_train, y_train, seed=123, batch_size=20):\n",
    "    plot_kannada(X_batch, y_batch, 20)\n",
    "    plt.show()\n",
    "    break"
   ]
  },
  {
   "cell_type": "code",
   "execution_count": 12,
   "metadata": {
    "execution": {
     "iopub.execute_input": "2020-10-12T07:26:34.977803Z",
     "iopub.status.busy": "2020-10-12T07:26:34.976326Z",
     "iopub.status.idle": "2020-10-12T07:26:34.980951Z",
     "shell.execute_reply": "2020-10-12T07:26:34.980376Z"
    },
    "papermill": {
     "duration": 0.050452,
     "end_time": "2020-10-12T07:26:34.981116",
     "exception": false,
     "start_time": "2020-10-12T07:26:34.930664",
     "status": "completed"
    },
    "tags": []
   },
   "outputs": [],
   "source": [
    "y_train = tf.keras.utils.to_categorical(y_train, 10)\n",
    "y_valid = tf.keras.utils.to_categorical(y_valid, 10)"
   ]
  },
  {
   "cell_type": "code",
   "execution_count": 13,
   "metadata": {
    "execution": {
     "iopub.execute_input": "2020-10-12T07:26:35.867010Z",
     "iopub.status.busy": "2020-10-12T07:26:35.865926Z",
     "iopub.status.idle": "2020-10-12T07:26:38.130417Z",
     "shell.execute_reply": "2020-10-12T07:26:38.129256Z"
    },
    "papermill": {
     "duration": 3.110781,
     "end_time": "2020-10-12T07:26:38.130547",
     "exception": false,
     "start_time": "2020-10-12T07:26:35.019766",
     "status": "completed"
    },
    "tags": []
   },
   "outputs": [],
   "source": [
    "# Build tensorflow dataset.\n",
    "batch_size = 32\n",
    "train_set = tf.data.Dataset.from_tensor_slices((X_train, y_train)).shuffle(len(X_train)).batch(batch_size).prefetch(1)\n",
    "valid_set = tf.data.Dataset.from_tensor_slices((X_valid, y_valid)).batch(batch_size).prefetch(1)"
   ]
  },
  {
   "cell_type": "markdown",
   "metadata": {
    "papermill": {
     "duration": 0.045184,
     "end_time": "2020-10-12T07:26:38.213313",
     "exception": false,
     "start_time": "2020-10-12T07:26:38.168129",
     "status": "completed"
    },
    "tags": []
   },
   "source": [
    "# Build the model"
   ]
  },
  {
   "cell_type": "code",
   "execution_count": 14,
   "metadata": {
    "execution": {
     "iopub.execute_input": "2020-10-12T07:26:38.296995Z",
     "iopub.status.busy": "2020-10-12T07:26:38.296200Z",
     "iopub.status.idle": "2020-10-12T07:26:38.304071Z",
     "shell.execute_reply": "2020-10-12T07:26:38.304541Z"
    },
    "papermill": {
     "duration": 0.052167,
     "end_time": "2020-10-12T07:26:38.304677",
     "exception": false,
     "start_time": "2020-10-12T07:26:38.252510",
     "status": "completed"
    },
    "tags": []
   },
   "outputs": [],
   "source": [
    "tf.keras.backend.clear_session()\n",
    "tf.random.set_seed(42)\n",
    "np.random.seed(42)"
   ]
  },
  {
   "cell_type": "code",
   "execution_count": 15,
   "metadata": {
    "execution": {
     "iopub.execute_input": "2020-10-12T07:26:38.403498Z",
     "iopub.status.busy": "2020-10-12T07:26:38.402578Z",
     "iopub.status.idle": "2020-10-12T07:26:39.229180Z",
     "shell.execute_reply": "2020-10-12T07:26:39.227890Z"
    },
    "papermill": {
     "duration": 0.886046,
     "end_time": "2020-10-12T07:26:39.229352",
     "exception": false,
     "start_time": "2020-10-12T07:26:38.343306",
     "status": "completed"
    },
    "tags": []
   },
   "outputs": [],
   "source": [
    "model = models.Sequential([\n",
    "    layers.BatchNormalization(input_shape=[28, 28, 1]),\n",
    "    \n",
    "    layers.Conv2D(64, 3, padding=\"same\", use_bias=False),\n",
    "    layers.BatchNormalization(),\n",
    "    layers.LeakyReLU(alpha=0.1),\n",
    "    layers.Conv2D(64, 3, padding=\"same\", use_bias=False),\n",
    "    layers.BatchNormalization(),\n",
    "    layers.LeakyReLU(alpha=0.1),\n",
    "    layers.Conv2D(64, 3, padding=\"same\", use_bias=False),\n",
    "    layers.BatchNormalization(),\n",
    "    layers.LeakyReLU(alpha=0.1),\n",
    "    layers.Conv2D(64, 3, padding=\"same\", use_bias=False),\n",
    "    layers.BatchNormalization(),\n",
    "    layers.LeakyReLU(alpha=0.1),\n",
    "    layers.MaxPool2D(2),\n",
    "    \n",
    "    layers.Conv2D(128, 3, padding=\"same\", use_bias=False),\n",
    "    layers.BatchNormalization(),\n",
    "    layers.LeakyReLU(alpha=0.1),\n",
    "    layers.Conv2D(128, 3, padding=\"same\", use_bias=False),\n",
    "    layers.BatchNormalization(),\n",
    "    layers.LeakyReLU(alpha=0.1),\n",
    "    layers.Conv2D(128, 3, padding=\"same\", use_bias=False),\n",
    "    layers.BatchNormalization(),\n",
    "    layers.LeakyReLU(alpha=0.1),\n",
    "    layers.Conv2D(128, 3, padding=\"same\", use_bias=False),\n",
    "    layers.BatchNormalization(),\n",
    "    layers.LeakyReLU(alpha=0.1),\n",
    "    layers.MaxPool2D(2),\n",
    "    \n",
    "    layers.Conv2D(256, 2, padding=\"same\", use_bias=False),\n",
    "    layers.BatchNormalization(),\n",
    "    layers.LeakyReLU(alpha=0.1),\n",
    "    layers.Conv2D(256, 2, padding=\"same\", use_bias=False),\n",
    "    layers.BatchNormalization(),\n",
    "    layers.LeakyReLU(alpha=0.1),\n",
    "    layers.Conv2D(256, 2, padding=\"same\", use_bias=False),\n",
    "    layers.BatchNormalization(),\n",
    "    layers.LeakyReLU(alpha=0.1),\n",
    "    layers.Conv2D(256, 2, padding=\"same\", use_bias=False),\n",
    "    layers.BatchNormalization(),\n",
    "    layers.LeakyReLU(alpha=0.1),\n",
    "    layers.MaxPool2D(2),\n",
    "\n",
    "    \n",
    "    layers.GlobalAveragePooling2D(),\n",
    "    layers.Dropout(0.2),\n",
    "    layers.Dense(256, activation=\"relu\"),\n",
    "    layers.Dropout(0.5),\n",
    "    layers.Dense(10, activation=\"softmax\")\n",
    "])"
   ]
  },
  {
   "cell_type": "code",
   "execution_count": 16,
   "metadata": {
    "execution": {
     "iopub.execute_input": "2020-10-12T07:26:39.318103Z",
     "iopub.status.busy": "2020-10-12T07:26:39.315988Z",
     "iopub.status.idle": "2020-10-12T07:26:39.344231Z",
     "shell.execute_reply": "2020-10-12T07:26:39.345010Z"
    },
    "papermill": {
     "duration": 0.077546,
     "end_time": "2020-10-12T07:26:39.345242",
     "exception": false,
     "start_time": "2020-10-12T07:26:39.267696",
     "status": "completed"
    },
    "tags": []
   },
   "outputs": [
    {
     "name": "stdout",
     "output_type": "stream",
     "text": [
      "Model: \"sequential\"\n",
      "_________________________________________________________________\n",
      "Layer (type)                 Output Shape              Param #   \n",
      "=================================================================\n",
      "batch_normalization (BatchNo (None, 28, 28, 1)         4         \n",
      "_________________________________________________________________\n",
      "conv2d (Conv2D)              (None, 28, 28, 64)        576       \n",
      "_________________________________________________________________\n",
      "batch_normalization_1 (Batch (None, 28, 28, 64)        256       \n",
      "_________________________________________________________________\n",
      "leaky_re_lu (LeakyReLU)      (None, 28, 28, 64)        0         \n",
      "_________________________________________________________________\n",
      "conv2d_1 (Conv2D)            (None, 28, 28, 64)        36864     \n",
      "_________________________________________________________________\n",
      "batch_normalization_2 (Batch (None, 28, 28, 64)        256       \n",
      "_________________________________________________________________\n",
      "leaky_re_lu_1 (LeakyReLU)    (None, 28, 28, 64)        0         \n",
      "_________________________________________________________________\n",
      "conv2d_2 (Conv2D)            (None, 28, 28, 64)        36864     \n",
      "_________________________________________________________________\n",
      "batch_normalization_3 (Batch (None, 28, 28, 64)        256       \n",
      "_________________________________________________________________\n",
      "leaky_re_lu_2 (LeakyReLU)    (None, 28, 28, 64)        0         \n",
      "_________________________________________________________________\n",
      "conv2d_3 (Conv2D)            (None, 28, 28, 64)        36864     \n",
      "_________________________________________________________________\n",
      "batch_normalization_4 (Batch (None, 28, 28, 64)        256       \n",
      "_________________________________________________________________\n",
      "leaky_re_lu_3 (LeakyReLU)    (None, 28, 28, 64)        0         \n",
      "_________________________________________________________________\n",
      "max_pooling2d (MaxPooling2D) (None, 14, 14, 64)        0         \n",
      "_________________________________________________________________\n",
      "conv2d_4 (Conv2D)            (None, 14, 14, 128)       73728     \n",
      "_________________________________________________________________\n",
      "batch_normalization_5 (Batch (None, 14, 14, 128)       512       \n",
      "_________________________________________________________________\n",
      "leaky_re_lu_4 (LeakyReLU)    (None, 14, 14, 128)       0         \n",
      "_________________________________________________________________\n",
      "conv2d_5 (Conv2D)            (None, 14, 14, 128)       147456    \n",
      "_________________________________________________________________\n",
      "batch_normalization_6 (Batch (None, 14, 14, 128)       512       \n",
      "_________________________________________________________________\n",
      "leaky_re_lu_5 (LeakyReLU)    (None, 14, 14, 128)       0         \n",
      "_________________________________________________________________\n",
      "conv2d_6 (Conv2D)            (None, 14, 14, 128)       147456    \n",
      "_________________________________________________________________\n",
      "batch_normalization_7 (Batch (None, 14, 14, 128)       512       \n",
      "_________________________________________________________________\n",
      "leaky_re_lu_6 (LeakyReLU)    (None, 14, 14, 128)       0         \n",
      "_________________________________________________________________\n",
      "conv2d_7 (Conv2D)            (None, 14, 14, 128)       147456    \n",
      "_________________________________________________________________\n",
      "batch_normalization_8 (Batch (None, 14, 14, 128)       512       \n",
      "_________________________________________________________________\n",
      "leaky_re_lu_7 (LeakyReLU)    (None, 14, 14, 128)       0         \n",
      "_________________________________________________________________\n",
      "max_pooling2d_1 (MaxPooling2 (None, 7, 7, 128)         0         \n",
      "_________________________________________________________________\n",
      "conv2d_8 (Conv2D)            (None, 7, 7, 256)         131072    \n",
      "_________________________________________________________________\n",
      "batch_normalization_9 (Batch (None, 7, 7, 256)         1024      \n",
      "_________________________________________________________________\n",
      "leaky_re_lu_8 (LeakyReLU)    (None, 7, 7, 256)         0         \n",
      "_________________________________________________________________\n",
      "conv2d_9 (Conv2D)            (None, 7, 7, 256)         262144    \n",
      "_________________________________________________________________\n",
      "batch_normalization_10 (Batc (None, 7, 7, 256)         1024      \n",
      "_________________________________________________________________\n",
      "leaky_re_lu_9 (LeakyReLU)    (None, 7, 7, 256)         0         \n",
      "_________________________________________________________________\n",
      "conv2d_10 (Conv2D)           (None, 7, 7, 256)         262144    \n",
      "_________________________________________________________________\n",
      "batch_normalization_11 (Batc (None, 7, 7, 256)         1024      \n",
      "_________________________________________________________________\n",
      "leaky_re_lu_10 (LeakyReLU)   (None, 7, 7, 256)         0         \n",
      "_________________________________________________________________\n",
      "conv2d_11 (Conv2D)           (None, 7, 7, 256)         262144    \n",
      "_________________________________________________________________\n",
      "batch_normalization_12 (Batc (None, 7, 7, 256)         1024      \n",
      "_________________________________________________________________\n",
      "leaky_re_lu_11 (LeakyReLU)   (None, 7, 7, 256)         0         \n",
      "_________________________________________________________________\n",
      "max_pooling2d_2 (MaxPooling2 (None, 3, 3, 256)         0         \n",
      "_________________________________________________________________\n",
      "global_average_pooling2d (Gl (None, 256)               0         \n",
      "_________________________________________________________________\n",
      "dropout (Dropout)            (None, 256)               0         \n",
      "_________________________________________________________________\n",
      "dense (Dense)                (None, 256)               65792     \n",
      "_________________________________________________________________\n",
      "dropout_1 (Dropout)          (None, 256)               0         \n",
      "_________________________________________________________________\n",
      "dense_1 (Dense)              (None, 10)                2570      \n",
      "=================================================================\n",
      "Total params: 1,620,302\n",
      "Trainable params: 1,616,716\n",
      "Non-trainable params: 3,586\n",
      "_________________________________________________________________\n"
     ]
    }
   ],
   "source": [
    "model.summary()"
   ]
  },
  {
   "cell_type": "code",
   "execution_count": 17,
   "metadata": {
    "execution": {
     "iopub.execute_input": "2020-10-12T07:26:39.430064Z",
     "iopub.status.busy": "2020-10-12T07:26:39.428914Z",
     "iopub.status.idle": "2020-10-12T07:26:39.460993Z",
     "shell.execute_reply": "2020-10-12T07:26:39.460438Z"
    },
    "papermill": {
     "duration": 0.073737,
     "end_time": "2020-10-12T07:26:39.461175",
     "exception": false,
     "start_time": "2020-10-12T07:26:39.387438",
     "status": "completed"
    },
    "tags": []
   },
   "outputs": [],
   "source": [
    "initial_weights = model.get_weights()"
   ]
  },
  {
   "cell_type": "markdown",
   "metadata": {
    "papermill": {
     "duration": 0.042464,
     "end_time": "2020-10-12T07:26:39.550483",
     "exception": false,
     "start_time": "2020-10-12T07:26:39.508019",
     "status": "completed"
    },
    "tags": []
   },
   "source": [
    "## Find the best learning rate for this architecture."
   ]
  },
  {
   "cell_type": "markdown",
   "metadata": {
    "papermill": {
     "duration": 0.041393,
     "end_time": "2020-10-12T07:26:39.633222",
     "exception": false,
     "start_time": "2020-10-12T07:26:39.591829",
     "status": "completed"
    },
    "tags": []
   },
   "source": [
    "To have an idea of the best learning rate to use we can increase the learning rate while training and look for the loss. I will start with a learning rate of $10^{-5}$ and increase it until $1$."
   ]
  },
  {
   "cell_type": "code",
   "execution_count": 18,
   "metadata": {
    "execution": {
     "iopub.execute_input": "2020-10-12T07:26:39.744445Z",
     "iopub.status.busy": "2020-10-12T07:26:39.743520Z",
     "iopub.status.idle": "2020-10-12T07:26:39.747009Z",
     "shell.execute_reply": "2020-10-12T07:26:39.747585Z"
    },
    "papermill": {
     "duration": 0.051194,
     "end_time": "2020-10-12T07:26:39.747739",
     "exception": false,
     "start_time": "2020-10-12T07:26:39.696545",
     "status": "completed"
    },
    "tags": []
   },
   "outputs": [],
   "source": [
    "class ExponentialLearningRate(callbacks.Callback):\n",
    "    def __init__(self, factor):\n",
    "        self.factor = factor\n",
    "        self.losses = []\n",
    "        self.rates = []\n",
    "\n",
    "    def on_batch_end(self, batch, logs=None):\n",
    "        self.rates.append(tf.keras.backend.get_value(self.model.optimizer.lr))\n",
    "        self.losses.append(logs[\"loss\"])\n",
    "        tf.keras.backend.set_value(self.model.optimizer.lr, self.model.optimizer.lr * self.factor)"
   ]
  },
  {
   "cell_type": "code",
   "execution_count": 19,
   "metadata": {
    "execution": {
     "iopub.execute_input": "2020-10-12T07:26:39.830314Z",
     "iopub.status.busy": "2020-10-12T07:26:39.829633Z",
     "iopub.status.idle": "2020-10-12T07:26:39.833816Z",
     "shell.execute_reply": "2020-10-12T07:26:39.834373Z"
    },
    "papermill": {
     "duration": 0.046273,
     "end_time": "2020-10-12T07:26:39.834504",
     "exception": false,
     "start_time": "2020-10-12T07:26:39.788231",
     "status": "completed"
    },
    "tags": []
   },
   "outputs": [],
   "source": [
    "factor = 1e6 ** (1/1500)\n",
    "\n",
    "exp_lr = ExponentialLearningRate(factor)"
   ]
  },
  {
   "cell_type": "code",
   "execution_count": 20,
   "metadata": {
    "execution": {
     "iopub.execute_input": "2020-10-12T07:26:39.928757Z",
     "iopub.status.busy": "2020-10-12T07:26:39.927616Z",
     "iopub.status.idle": "2020-10-12T07:26:39.936071Z",
     "shell.execute_reply": "2020-10-12T07:26:39.935343Z"
    },
    "papermill": {
     "duration": 0.062036,
     "end_time": "2020-10-12T07:26:39.936185",
     "exception": false,
     "start_time": "2020-10-12T07:26:39.874149",
     "status": "completed"
    },
    "tags": []
   },
   "outputs": [],
   "source": [
    "model.compile(\n",
    "    optimizer=optimizers.Nadam(lr=1e-5),\n",
    "    loss=losses.categorical_crossentropy,\n",
    "    metrics=[metrics.categorical_accuracy]\n",
    ")"
   ]
  },
  {
   "cell_type": "code",
   "execution_count": 21,
   "metadata": {
    "execution": {
     "iopub.execute_input": "2020-10-12T07:26:40.019206Z",
     "iopub.status.busy": "2020-10-12T07:26:40.018499Z",
     "iopub.status.idle": "2020-10-12T07:27:14.879969Z",
     "shell.execute_reply": "2020-10-12T07:27:14.879394Z"
    },
    "papermill": {
     "duration": 34.903547,
     "end_time": "2020-10-12T07:27:14.880111",
     "exception": false,
     "start_time": "2020-10-12T07:26:39.976564",
     "status": "completed"
    },
    "tags": []
   },
   "outputs": [
    {
     "name": "stdout",
     "output_type": "stream",
     "text": [
      "1500/1500 [==============================] - 27s 18ms/step - loss: 740422.5000 - categorical_accuracy: 0.4853\n"
     ]
    }
   ],
   "source": [
    "history = model.fit(train_set, epochs=1, callbacks=[exp_lr])"
   ]
  },
  {
   "cell_type": "code",
   "execution_count": 22,
   "metadata": {
    "execution": {
     "iopub.execute_input": "2020-10-12T07:27:15.323501Z",
     "iopub.status.busy": "2020-10-12T07:27:15.321624Z",
     "iopub.status.idle": "2020-10-12T07:27:15.324182Z",
     "shell.execute_reply": "2020-10-12T07:27:15.324667Z"
    },
    "papermill": {
     "duration": 0.227389,
     "end_time": "2020-10-12T07:27:15.324794",
     "exception": false,
     "start_time": "2020-10-12T07:27:15.097405",
     "status": "completed"
    },
    "tags": []
   },
   "outputs": [],
   "source": [
    "def plot_lr_vs_loss(rates, losses):\n",
    "    plt.plot(rates, losses)\n",
    "    plt.gca().set_xscale(\"log\")\n",
    "    plt.xlabel(\"Learning Rate\")\n",
    "    plt.ylabel(\"Loss\")\n",
    "    plt.ylim((min(losses), losses[0]))"
   ]
  },
  {
   "cell_type": "code",
   "execution_count": 23,
   "metadata": {
    "execution": {
     "iopub.execute_input": "2020-10-12T07:27:15.779983Z",
     "iopub.status.busy": "2020-10-12T07:27:15.778464Z",
     "iopub.status.idle": "2020-10-12T07:27:16.577490Z",
     "shell.execute_reply": "2020-10-12T07:27:16.577979Z"
    },
    "papermill": {
     "duration": 1.033794,
     "end_time": "2020-10-12T07:27:16.578133",
     "exception": false,
     "start_time": "2020-10-12T07:27:15.544339",
     "status": "completed"
    },
    "tags": []
   },
   "outputs": [
    {
     "data": {
      "image/png": "[encoded data removed]",
      "text/plain": [
       "<Figure size 432x288 with 1 Axes>"
      ]
     },
     "metadata": {
      "needs_background": "light"
     },
     "output_type": "display_data"
    }
   ],
   "source": [
    "plot_lr_vs_loss(exp_lr.rates, exp_lr.losses)"
   ]
  },
  {
   "cell_type": "markdown",
   "metadata": {
    "papermill": {
     "duration": 0.217208,
     "end_time": "2020-10-12T07:27:17.012564",
     "exception": false,
     "start_time": "2020-10-12T07:27:16.795356",
     "status": "completed"
    },
    "tags": []
   },
   "source": [
    "So 0.001 should be a good learning rate to start."
   ]
  },
  {
   "cell_type": "markdown",
   "metadata": {
    "papermill": {
     "duration": 0.227672,
     "end_time": "2020-10-12T07:27:17.464354",
     "exception": false,
     "start_time": "2020-10-12T07:27:17.236682",
     "status": "completed"
    },
    "tags": []
   },
   "source": [
    "# Train the model"
   ]
  },
  {
   "cell_type": "markdown",
   "metadata": {
    "papermill": {
     "duration": 0.219074,
     "end_time": "2020-10-12T07:27:17.910067",
     "exception": false,
     "start_time": "2020-10-12T07:27:17.690993",
     "status": "completed"
    },
    "tags": []
   },
   "source": [
    "Restore the weights to the values before the learning rate test."
   ]
  },
  {
   "cell_type": "code",
   "execution_count": 24,
   "metadata": {
    "execution": {
     "iopub.execute_input": "2020-10-12T07:27:18.364340Z",
     "iopub.status.busy": "2020-10-12T07:27:18.363686Z",
     "iopub.status.idle": "2020-10-12T07:27:18.391998Z",
     "shell.execute_reply": "2020-10-12T07:27:18.391476Z"
    },
    "papermill": {
     "duration": 0.256668,
     "end_time": "2020-10-12T07:27:18.392121",
     "exception": false,
     "start_time": "2020-10-12T07:27:18.135453",
     "status": "completed"
    },
    "tags": []
   },
   "outputs": [],
   "source": [
    "model.set_weights(initial_weights)"
   ]
  },
  {
   "cell_type": "code",
   "execution_count": 25,
   "metadata": {
    "execution": {
     "iopub.execute_input": "2020-10-12T07:27:18.840746Z",
     "iopub.status.busy": "2020-10-12T07:27:18.839748Z",
     "iopub.status.idle": "2020-10-12T07:27:18.855679Z",
     "shell.execute_reply": "2020-10-12T07:27:18.855183Z"
    },
    "papermill": {
     "duration": 0.24534,
     "end_time": "2020-10-12T07:27:18.855786",
     "exception": false,
     "start_time": "2020-10-12T07:27:18.610446",
     "status": "completed"
    },
    "tags": []
   },
   "outputs": [],
   "source": [
    "model.compile(\n",
    "    optimizer=optimizers.Nadam(lr=1e-3),\n",
    "    loss=losses.categorical_crossentropy,\n",
    "    metrics=[metrics.categorical_accuracy]\n",
    ")"
   ]
  },
  {
   "cell_type": "markdown",
   "metadata": {
    "papermill": {
     "duration": 0.217181,
     "end_time": "2020-10-12T07:27:19.289903",
     "exception": false,
     "start_time": "2020-10-12T07:27:19.072722",
     "status": "completed"
    },
    "tags": []
   },
   "source": [
    "Callbacks."
   ]
  },
  {
   "cell_type": "code",
   "execution_count": 26,
   "metadata": {
    "execution": {
     "iopub.execute_input": "2020-10-12T07:27:19.751316Z",
     "iopub.status.busy": "2020-10-12T07:27:19.749298Z",
     "iopub.status.idle": "2020-10-12T07:27:19.751997Z",
     "shell.execute_reply": "2020-10-12T07:27:19.752587Z"
    },
    "papermill": {
     "duration": 0.23035,
     "end_time": "2020-10-12T07:27:19.752730",
     "exception": false,
     "start_time": "2020-10-12T07:27:19.522380",
     "status": "completed"
    },
    "tags": []
   },
   "outputs": [],
   "source": [
    "checkpoint_cb = callbacks.ModelCheckpoint(r\"model.h5\", save_best_only=True)\n",
    "early_stop_cb = callbacks.EarlyStopping(patience=10, restore_best_weights=True)\n",
    "reduce_lr_cb  = callbacks.ReduceLROnPlateau(factor=0.2, patience=3, min_lr=1e-5, verbose=1)"
   ]
  },
  {
   "cell_type": "code",
   "execution_count": 27,
   "metadata": {
    "execution": {
     "iopub.execute_input": "2020-10-12T07:27:20.353126Z",
     "iopub.status.busy": "2020-10-12T07:27:20.352189Z",
     "iopub.status.idle": "2020-10-12T07:52:47.185381Z",
     "shell.execute_reply": "2020-10-12T07:52:47.186128Z"
    },
    "papermill": {
     "duration": 1527.169364,
     "end_time": "2020-10-12T07:52:47.186330",
     "exception": false,
     "start_time": "2020-10-12T07:27:20.016966",
     "status": "completed"
    },
    "tags": []
   },
   "outputs": [
    {
     "name": "stdout",
     "output_type": "stream",
     "text": [
      "Epoch 1/100\n",
      "1500/1500 [==============================] - 34s 23ms/step - loss: 0.3421 - categorical_accuracy: 0.8925 - val_loss: 0.3118 - val_categorical_accuracy: 0.9267\n",
      "Epoch 2/100\n",
      "1500/1500 [==============================] - 33s 22ms/step - loss: 0.1557 - categorical_accuracy: 0.9536 - val_loss: 0.0357 - val_categorical_accuracy: 0.9899\n",
      "Epoch 3/100\n",
      "1500/1500 [==============================] - 34s 23ms/step - loss: 0.1239 - categorical_accuracy: 0.9614 - val_loss: 0.0382 - val_categorical_accuracy: 0.9894\n",
      "Epoch 4/100\n",
      "1500/1500 [==============================] - 34s 23ms/step - loss: 0.1064 - categorical_accuracy: 0.9666 - val_loss: 0.0145 - val_categorical_accuracy: 0.9958\n",
      "Epoch 5/100\n",
      "1500/1500 [==============================] - 33s 22ms/step - loss: 0.1025 - categorical_accuracy: 0.9688 - val_loss: 0.0207 - val_categorical_accuracy: 0.9942\n",
      "Epoch 6/100\n",
      "1500/1500 [==============================] - 34s 23ms/step - loss: 0.0882 - categorical_accuracy: 0.9733 - val_loss: 0.0125 - val_categorical_accuracy: 0.9960\n",
      "Epoch 7/100\n",
      "1500/1500 [==============================] - 33s 22ms/step - loss: 0.0849 - categorical_accuracy: 0.9738 - val_loss: 0.0255 - val_categorical_accuracy: 0.9930\n",
      "Epoch 8/100\n",
      "1500/1500 [==============================] - 35s 23ms/step - loss: 0.0816 - categorical_accuracy: 0.9751 - val_loss: 0.0111 - val_categorical_accuracy: 0.9965\n",
      "Epoch 9/100\n",
      "1500/1500 [==============================] - 33s 22ms/step - loss: 0.0749 - categorical_accuracy: 0.9767 - val_loss: 0.0116 - val_categorical_accuracy: 0.9967\n",
      "Epoch 10/100\n",
      "1500/1500 [==============================] - 34s 23ms/step - loss: 0.0678 - categorical_accuracy: 0.9800 - val_loss: 0.0279 - val_categorical_accuracy: 0.9910\n",
      "Epoch 11/100\n",
      "1499/1500 [============================>.] - ETA: 0s - loss: 0.0698 - categorical_accuracy: 0.9783\n",
      "Epoch 00011: ReduceLROnPlateau reducing learning rate to 0.00020000000949949026.\n",
      "1500/1500 [==============================] - 34s 22ms/step - loss: 0.0697 - categorical_accuracy: 0.9784 - val_loss: 0.0135 - val_categorical_accuracy: 0.9962\n",
      "Epoch 12/100\n",
      "1500/1500 [==============================] - 34s 23ms/step - loss: 0.0480 - categorical_accuracy: 0.9850 - val_loss: 0.0079 - val_categorical_accuracy: 0.9982\n",
      "Epoch 13/100\n",
      "1500/1500 [==============================] - 35s 23ms/step - loss: 0.0433 - categorical_accuracy: 0.9864 - val_loss: 0.0072 - val_categorical_accuracy: 0.9977\n",
      "Epoch 14/100\n",
      "1500/1500 [==============================] - 34s 22ms/step - loss: 0.0407 - categorical_accuracy: 0.9873 - val_loss: 0.0077 - val_categorical_accuracy: 0.9979\n",
      "Epoch 15/100\n",
      "1500/1500 [==============================] - 35s 23ms/step - loss: 0.0404 - categorical_accuracy: 0.9865 - val_loss: 0.0083 - val_categorical_accuracy: 0.9975\n",
      "Epoch 16/100\n",
      "1498/1500 [============================>.] - ETA: 0s - loss: 0.0403 - categorical_accuracy: 0.9871\n",
      "Epoch 00016: ReduceLROnPlateau reducing learning rate to 4.0000001899898055e-05.\n",
      "1500/1500 [==============================] - 34s 23ms/step - loss: 0.0402 - categorical_accuracy: 0.9871 - val_loss: 0.0087 - val_categorical_accuracy: 0.9967\n",
      "Epoch 17/100\n",
      "1500/1500 [==============================] - 35s 23ms/step - loss: 0.0346 - categorical_accuracy: 0.9890 - val_loss: 0.0073 - val_categorical_accuracy: 0.9972\n",
      "Epoch 18/100\n",
      "1500/1500 [==============================] - 35s 23ms/step - loss: 0.0358 - categorical_accuracy: 0.9887 - val_loss: 0.0078 - val_categorical_accuracy: 0.9976\n",
      "Epoch 19/100\n",
      "1498/1500 [============================>.] - ETA: 0s - loss: 0.0353 - categorical_accuracy: 0.9885\n",
      "Epoch 00019: ReduceLROnPlateau reducing learning rate to 1e-05.\n",
      "1500/1500 [==============================] - 34s 23ms/step - loss: 0.0353 - categorical_accuracy: 0.9885 - val_loss: 0.0078 - val_categorical_accuracy: 0.9974\n",
      "Epoch 20/100\n",
      "1500/1500 [==============================] - 34s 23ms/step - loss: 0.0346 - categorical_accuracy: 0.9887 - val_loss: 0.0074 - val_categorical_accuracy: 0.9974\n",
      "Epoch 21/100\n",
      "1500/1500 [==============================] - 31s 20ms/step - loss: 0.0322 - categorical_accuracy: 0.9898 - val_loss: 0.0072 - val_categorical_accuracy: 0.9974\n",
      "Epoch 22/100\n",
      "1500/1500 [==============================] - 33s 22ms/step - loss: 0.0339 - categorical_accuracy: 0.9890 - val_loss: 0.0074 - val_categorical_accuracy: 0.9973\n",
      "Epoch 23/100\n",
      "1500/1500 [==============================] - 33s 22ms/step - loss: 0.0321 - categorical_accuracy: 0.9892 - val_loss: 0.0072 - val_categorical_accuracy: 0.9976\n",
      "Epoch 24/100\n",
      "1500/1500 [==============================] - 32s 21ms/step - loss: 0.0324 - categorical_accuracy: 0.9891 - val_loss: 0.0072 - val_categorical_accuracy: 0.9975\n",
      "Epoch 25/100\n",
      "1500/1500 [==============================] - 35s 23ms/step - loss: 0.0327 - categorical_accuracy: 0.9897 - val_loss: 0.0071 - val_categorical_accuracy: 0.9975\n",
      "Epoch 26/100\n",
      "1500/1500 [==============================] - 32s 22ms/step - loss: 0.0325 - categorical_accuracy: 0.9894 - val_loss: 0.0070 - val_categorical_accuracy: 0.9977\n",
      "Epoch 27/100\n",
      "1500/1500 [==============================] - 36s 24ms/step - loss: 0.0323 - categorical_accuracy: 0.9895 - val_loss: 0.0070 - val_categorical_accuracy: 0.9976\n",
      "Epoch 28/100\n",
      "1500/1500 [==============================] - 31s 21ms/step - loss: 0.0334 - categorical_accuracy: 0.9893 - val_loss: 0.0071 - val_categorical_accuracy: 0.9976\n",
      "Epoch 29/100\n",
      "1500/1500 [==============================] - 37s 25ms/step - loss: 0.0319 - categorical_accuracy: 0.9896 - val_loss: 0.0070 - val_categorical_accuracy: 0.9976\n",
      "Epoch 30/100\n",
      "1500/1500 [==============================] - 31s 21ms/step - loss: 0.0311 - categorical_accuracy: 0.9898 - val_loss: 0.0068 - val_categorical_accuracy: 0.9979\n",
      "Epoch 31/100\n",
      "1500/1500 [==============================] - 37s 25ms/step - loss: 0.0306 - categorical_accuracy: 0.9902 - val_loss: 0.0069 - val_categorical_accuracy: 0.9977\n",
      "Epoch 32/100\n",
      "1500/1500 [==============================] - 31s 21ms/step - loss: 0.0325 - categorical_accuracy: 0.9895 - val_loss: 0.0069 - val_categorical_accuracy: 0.9977\n",
      "Epoch 33/100\n",
      "1500/1500 [==============================] - 37s 25ms/step - loss: 0.0321 - categorical_accuracy: 0.9893 - val_loss: 0.0068 - val_categorical_accuracy: 0.9977\n",
      "Epoch 34/100\n",
      "1500/1500 [==============================] - 31s 21ms/step - loss: 0.0329 - categorical_accuracy: 0.9895 - val_loss: 0.0069 - val_categorical_accuracy: 0.9977\n",
      "Epoch 35/100\n",
      "1500/1500 [==============================] - 38s 25ms/step - loss: 0.0334 - categorical_accuracy: 0.9886 - val_loss: 0.0067 - val_categorical_accuracy: 0.9977\n",
      "Epoch 36/100\n",
      "1500/1500 [==============================] - 33s 22ms/step - loss: 0.0323 - categorical_accuracy: 0.9895 - val_loss: 0.0069 - val_categorical_accuracy: 0.9977\n",
      "Epoch 37/100\n",
      "1500/1500 [==============================] - 36s 24ms/step - loss: 0.0308 - categorical_accuracy: 0.9902 - val_loss: 0.0070 - val_categorical_accuracy: 0.9977\n",
      "Epoch 38/100\n",
      "1500/1500 [==============================] - 32s 21ms/step - loss: 0.0335 - categorical_accuracy: 0.9891 - val_loss: 0.0068 - val_categorical_accuracy: 0.9979\n",
      "Epoch 39/100\n",
      "1500/1500 [==============================] - 32s 21ms/step - loss: 0.0292 - categorical_accuracy: 0.9903 - val_loss: 0.0069 - val_categorical_accuracy: 0.9977\n",
      "Epoch 40/100\n",
      "1500/1500 [==============================] - 36s 24ms/step - loss: 0.0317 - categorical_accuracy: 0.9896 - val_loss: 0.0071 - val_categorical_accuracy: 0.9975\n",
      "Epoch 41/100\n",
      "1500/1500 [==============================] - 31s 21ms/step - loss: 0.0305 - categorical_accuracy: 0.9895 - val_loss: 0.0071 - val_categorical_accuracy: 0.9974\n",
      "Epoch 42/100\n",
      "1500/1500 [==============================] - 38s 25ms/step - loss: 0.0322 - categorical_accuracy: 0.9896 - val_loss: 0.0073 - val_categorical_accuracy: 0.9974\n",
      "Epoch 43/100\n",
      "1500/1500 [==============================] - 32s 22ms/step - loss: 0.0322 - categorical_accuracy: 0.9895 - val_loss: 0.0072 - val_categorical_accuracy: 0.9976\n",
      "Epoch 44/100\n",
      "1500/1500 [==============================] - 31s 21ms/step - loss: 0.0322 - categorical_accuracy: 0.9898 - val_loss: 0.0070 - val_categorical_accuracy: 0.9976\n",
      "Epoch 45/100\n",
      "1500/1500 [==============================] - 32s 22ms/step - loss: 0.0292 - categorical_accuracy: 0.9904 - val_loss: 0.0070 - val_categorical_accuracy: 0.9977\n"
     ]
    }
   ],
   "source": [
    "history = model.fit_generator(\n",
    "    data_generator.flow(X_train, y_train, seed=42),\n",
    "    epochs=100, \n",
    "    callbacks=[checkpoint_cb, early_stop_cb, reduce_lr_cb],\n",
    "    validation_data=valid_set\n",
    ")"
   ]
  },
  {
   "cell_type": "code",
   "execution_count": 28,
   "metadata": {
    "execution": {
     "iopub.execute_input": "2020-10-12T07:53:05.111259Z",
     "iopub.status.busy": "2020-10-12T07:53:05.109857Z",
     "iopub.status.idle": "2020-10-12T07:53:05.273498Z",
     "shell.execute_reply": "2020-10-12T07:53:05.273973Z"
    },
    "papermill": {
     "duration": 9.033921,
     "end_time": "2020-10-12T07:53:05.274125",
     "exception": false,
     "start_time": "2020-10-12T07:52:56.240204",
     "status": "completed"
    },
    "tags": []
   },
   "outputs": [
    {
     "data": {
      "image/png": "[encoded data removed]",
      "text/plain": [
       "<Figure size 432x288 with 1 Axes>"
      ]
     },
     "metadata": {
      "needs_background": "light"
     },
     "output_type": "display_data"
    }
   ],
   "source": [
    "plt.plot(history.epoch, history.history[\"loss\"], \"b.-\", label=\"Train loss\")\n",
    "plt.plot(history.epoch, history.history[\"val_loss\"], \"r.-\", label=\"Validation loss\")\n",
    "plt.grid()\n",
    "plt.legend()\n",
    "plt.show()"
   ]
  },
  {
   "cell_type": "code",
   "execution_count": 29,
   "metadata": {
    "execution": {
     "iopub.execute_input": "2020-10-12T07:53:23.494521Z",
     "iopub.status.busy": "2020-10-12T07:53:23.493449Z",
     "iopub.status.idle": "2020-10-12T07:53:25.134158Z",
     "shell.execute_reply": "2020-10-12T07:53:25.133326Z"
    },
    "papermill": {
     "duration": 10.457629,
     "end_time": "2020-10-12T07:53:25.134274",
     "exception": false,
     "start_time": "2020-10-12T07:53:14.676645",
     "status": "completed"
    },
    "tags": []
   },
   "outputs": [
    {
     "data": {
      "text/plain": [
       "0.99775"
      ]
     },
     "execution_count": 29,
     "metadata": {},
     "output_type": "execute_result"
    }
   ],
   "source": [
    "y_pred = model.predict_classes(X_valid)\n",
    "accuracy_score(np.argmax(y_valid, axis=1), y_pred)"
   ]
  },
  {
   "cell_type": "code",
   "execution_count": 30,
   "metadata": {
    "execution": {
     "iopub.execute_input": "2020-10-12T07:53:43.010942Z",
     "iopub.status.busy": "2020-10-12T07:53:43.010062Z",
     "iopub.status.idle": "2020-10-12T07:53:43.035515Z",
     "shell.execute_reply": "2020-10-12T07:53:43.036002Z"
    },
    "papermill": {
     "duration": 8.901322,
     "end_time": "2020-10-12T07:53:43.036152",
     "exception": false,
     "start_time": "2020-10-12T07:53:34.134830",
     "status": "completed"
    },
    "tags": []
   },
   "outputs": [
    {
     "data": {
      "text/plain": [
       "array([[1196,    4,    0,    0,    0,    0,    0,    0,    0,    0],\n",
       "       [   6, 1194,    0,    0,    0,    0,    0,    0,    0,    0],\n",
       "       [   0,    0, 1199,    1,    0,    0,    0,    0,    0,    0],\n",
       "       [   0,    0,    0, 1200,    0,    0,    0,    0,    0,    0],\n",
       "       [   0,    0,    0,    0, 1197,    1,    0,    0,    1,    1],\n",
       "       [   0,    0,    0,    0,    0, 1200,    0,    0,    0,    0],\n",
       "       [   0,    0,    0,    0,    0,    0, 1195,    3,    0,    2],\n",
       "       [   0,    0,    0,    3,    0,    0,    2, 1195,    0,    0],\n",
       "       [   0,    0,    0,    0,    0,    0,    0,    0, 1200,    0],\n",
       "       [   0,    0,    0,    0,    0,    0,    3,    0,    0, 1197]])"
      ]
     },
     "execution_count": 30,
     "metadata": {},
     "output_type": "execute_result"
    }
   ],
   "source": [
    "confusion_matrix(np.argmax(y_valid, axis=1), y_pred)"
   ]
  },
  {
   "cell_type": "markdown",
   "metadata": {
    "papermill": {
     "duration": 8.756607,
     "end_time": "2020-10-12T07:54:00.950907",
     "exception": false,
     "start_time": "2020-10-12T07:53:52.194300",
     "status": "completed"
    },
    "tags": []
   },
   "source": [
    "### Monte Carlo Drop Out"
   ]
  },
  {
   "cell_type": "markdown",
   "metadata": {
    "papermill": {
     "duration": 9.209969,
     "end_time": "2020-10-12T07:54:18.915055",
     "exception": false,
     "start_time": "2020-10-12T07:54:09.705086",
     "status": "completed"
    },
    "tags": []
   },
   "source": [
    "By using the drop out layers at inference we can get different predictions for the same digit (like an esemble method). "
   ]
  },
  {
   "cell_type": "code",
   "execution_count": 31,
   "metadata": {
    "execution": {
     "iopub.execute_input": "2020-10-12T07:54:36.657579Z",
     "iopub.status.busy": "2020-10-12T07:54:36.656322Z",
     "iopub.status.idle": "2020-10-12T07:56:24.821578Z",
     "shell.execute_reply": "2020-10-12T07:56:24.821065Z"
    },
    "papermill": {
     "duration": 117.407452,
     "end_time": "2020-10-12T07:56:24.821701",
     "exception": false,
     "start_time": "2020-10-12T07:54:27.414249",
     "status": "completed"
    },
    "tags": []
   },
   "outputs": [
    {
     "data": {
      "text/plain": [
       "0.9983333333333333"
      ]
     },
     "execution_count": 31,
     "metadata": {},
     "output_type": "execute_result"
    }
   ],
   "source": [
    "y_probas = np.stack([model(X_valid, training=True) for _ in range(100)])\n",
    "y_proba = y_probas.mean(axis=0)\n",
    "y_pred = np.argmax(y_proba, axis=1)\n",
    "accuracy_score(np.argmax(y_valid, axis=1), y_pred)"
   ]
  },
  {
   "cell_type": "markdown",
   "metadata": {
    "papermill": {
     "duration": 9.06235,
     "end_time": "2020-10-12T07:56:43.413479",
     "exception": false,
     "start_time": "2020-10-12T07:56:34.351129",
     "status": "completed"
    },
    "tags": []
   },
   "source": [
    "# Make Predictions"
   ]
  },
  {
   "cell_type": "code",
   "execution_count": 32,
   "metadata": {
    "execution": {
     "iopub.execute_input": "2020-10-12T07:57:00.885913Z",
     "iopub.status.busy": "2020-10-12T07:57:00.884903Z",
     "iopub.status.idle": "2020-10-12T07:57:01.780624Z",
     "shell.execute_reply": "2020-10-12T07:57:01.781546Z"
    },
    "papermill": {
     "duration": 9.481733,
     "end_time": "2020-10-12T07:57:01.781747",
     "exception": false,
     "start_time": "2020-10-12T07:56:52.300014",
     "status": "completed"
    },
    "tags": []
   },
   "outputs": [],
   "source": [
    "y_pred = model.predict_classes(X_test)"
   ]
  },
  {
   "cell_type": "code",
   "execution_count": 33,
   "metadata": {
    "execution": {
     "iopub.execute_input": "2020-10-12T07:57:19.566814Z",
     "iopub.status.busy": "2020-10-12T07:57:19.565600Z",
     "iopub.status.idle": "2020-10-12T07:58:03.012055Z",
     "shell.execute_reply": "2020-10-12T07:58:03.010835Z"
    },
    "papermill": {
     "duration": 52.255745,
     "end_time": "2020-10-12T07:58:03.012217",
     "exception": false,
     "start_time": "2020-10-12T07:57:10.756472",
     "status": "completed"
    },
    "tags": []
   },
   "outputs": [],
   "source": [
    "y_probas = np.stack([model(X_test, training=True) for _ in range(100)])\n",
    "y_proba = y_probas.mean(axis=0)\n",
    "y_pred_mcdo = np.argmax(y_proba, axis=1)"
   ]
  },
  {
   "cell_type": "code",
   "execution_count": 34,
   "metadata": {
    "execution": {
     "iopub.execute_input": "2020-10-12T07:58:21.013611Z",
     "iopub.status.busy": "2020-10-12T07:58:21.010967Z",
     "iopub.status.idle": "2020-10-12T07:58:21.024251Z",
     "shell.execute_reply": "2020-10-12T07:58:21.023585Z"
    },
    "papermill": {
     "duration": 8.794896,
     "end_time": "2020-10-12T07:58:21.024372",
     "exception": false,
     "start_time": "2020-10-12T07:58:12.229476",
     "status": "completed"
    },
    "tags": []
   },
   "outputs": [],
   "source": [
    "sample_sub = pd.read_csv(f\"{PATH}/sample_submission.csv\")\n",
    "sample_sub[\"label\"] = y_pred"
   ]
  },
  {
   "cell_type": "code",
   "execution_count": 35,
   "metadata": {
    "execution": {
     "iopub.execute_input": "2020-10-12T07:58:38.759798Z",
     "iopub.status.busy": "2020-10-12T07:58:38.758922Z",
     "iopub.status.idle": "2020-10-12T07:58:39.003928Z",
     "shell.execute_reply": "2020-10-12T07:58:39.002505Z"
    },
    "papermill": {
     "duration": 9.494597,
     "end_time": "2020-10-12T07:58:39.004072",
     "exception": false,
     "start_time": "2020-10-12T07:58:29.509475",
     "status": "completed"
    },
    "tags": []
   },
   "outputs": [],
   "source": [
    "sample_sub.to_csv(\"submission.csv\", index=False)"
   ]
  },
  {
   "cell_type": "markdown",
   "metadata": {},
   "source": [
    "This model achieved an accuracy of $99.12\\%$ on the private score and a $98.82\\%$ on the public score which would be placed on the top $10\\%$ of the submissions made at the time of the competition."
   ]
  }
 ],
 "metadata": {
  "kernelspec": {
   "display_name": "Python 3",
   "language": "python",
   "name": "python3"
  },
  "language_info": {
   "codemirror_mode": {
    "name": "ipython",
    "version": 3
   },
   "file_extension": ".py",
   "mimetype": "text/x-python",
   "name": "python",
   "nbconvert_exporter": "python",
   "pygments_lexer": "ipython3",
   "version": "3.6.9"
  },
  "papermill": {
   "duration": 1955.130448,
   "end_time": "2020-10-12T07:58:49.603352",
   "environment_variables": {},
   "exception": null,
   "input_path": "__notebook__.ipynb",
   "output_path": "__notebook__.ipynb",
   "parameters": {},
   "start_time": "2020-10-12T07:26:14.472904",
   "version": "2.1.0"
  }
 },
 "nbformat": 4,
 "nbformat_minor": 4
}
