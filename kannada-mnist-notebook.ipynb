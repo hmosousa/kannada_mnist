{
 "cells": [
  {
   "cell_type": "code",
   "execution_count": 2,
   "metadata": {
    "execution": {
     "iopub.execute_input": "2020-10-11T11:10:55.658979Z",
     "iopub.status.busy": "2020-10-11T11:10:55.658386Z",
     "iopub.status.idle": "2020-10-11T11:11:02.766748Z",
     "shell.execute_reply": "2020-10-11T11:11:02.765702Z"
    },
    "papermill": {
     "duration": 7.143936,
     "end_time": "2020-10-11T11:11:02.766867",
     "exception": false,
     "start_time": "2020-10-11T11:10:55.622931",
     "status": "completed"
    },
    "tags": []
   },
   "outputs": [],
   "source": [
    "import pandas as pd\n",
    "\n",
    "import numpy as np\n",
    "\n",
    "import tensorflow as tf\n",
    "\n",
    "from tensorflow.keras import layers\n",
    "from tensorflow.keras import models\n",
    "from tensorflow.keras import optimizers\n",
    "from tensorflow.keras import losses\n",
    "from tensorflow.keras import metrics\n",
    "from tensorflow.keras import callbacks\n",
    "\n",
    "import matplotlib.pyplot as plt\n",
    "\n",
    "from sklearn.model_selection import train_test_split\n",
    "\n",
    "from sklearn.metrics import confusion_matrix\n",
    "from sklearn.metrics import accuracy_score"
   ]
  },
  {
   "cell_type": "markdown",
   "metadata": {
    "papermill": {
     "duration": 0.028721,
     "end_time": "2020-10-11T11:11:02.824667",
     "exception": false,
     "start_time": "2020-10-11T11:11:02.795946",
     "status": "completed"
    },
    "tags": []
   },
   "source": [
    "# Load data"
   ]
  },
  {
   "cell_type": "markdown",
   "metadata": {
    "papermill": {
     "duration": 0.028195,
     "end_time": "2020-10-11T11:11:02.881581",
     "exception": false,
     "start_time": "2020-10-11T11:11:02.853386",
     "status": "completed"
    },
    "tags": []
   },
   "source": [
    "## Kannada MNIST\n",
    "\n",
    "The kannada MNIST dataset is a handwritten digits dataset which is similar to the classic MNIST dataset for the Kannada language. This dataset was used in one Kaggle playground competitions at the end of 2019. Lets take a look at it."
   ]
  },
  {
   "cell_type": "code",
   "execution_count": 3,
   "metadata": {
    "execution": {
     "iopub.execute_input": "2020-10-11T11:11:02.945800Z",
     "iopub.status.busy": "2020-10-11T11:11:02.945073Z",
     "iopub.status.idle": "2020-10-11T11:11:02.948077Z",
     "shell.execute_reply": "2020-10-11T11:11:02.948569Z"
    },
    "papermill": {
     "duration": 0.03827,
     "end_time": "2020-10-11T11:11:02.948689",
     "exception": false,
     "start_time": "2020-10-11T11:11:02.910419",
     "status": "completed"
    },
    "tags": []
   },
   "outputs": [],
   "source": [
    "def read_kannada_dataset(path):\n",
    "    dataset = pd.read_csv(path)\n",
    "    \n",
    "    y = dataset.iloc[:, 0].values \n",
    "\n",
    "    X = dataset.iloc[:, 1:].values / 255.\n",
    "\n",
    "    X = X / X.max(axis=1, keepdims=True) # make all images range from 0 to 1.\n",
    "    X = X.reshape((len(X), 28, 28))\n",
    "    X = X[..., np.newaxis]\n",
    "    \n",
    "    return X, y"
   ]
  },
  {
   "cell_type": "code",
   "execution_count": 4,
   "metadata": {
    "execution": {
     "iopub.execute_input": "2020-10-11T11:11:03.015425Z",
     "iopub.status.busy": "2020-10-11T11:11:03.014806Z",
     "iopub.status.idle": "2020-10-11T11:11:07.883478Z",
     "shell.execute_reply": "2020-10-11T11:11:07.881951Z"
    },
    "papermill": {
     "duration": 4.906048,
     "end_time": "2020-10-11T11:11:07.883602",
     "exception": false,
     "start_time": "2020-10-11T11:11:02.977554",
     "status": "completed"
    },
    "tags": []
   },
   "outputs": [],
   "source": [
    "X, y = read_kannada_dataset(r\"data/train.csv\")\n",
    "\n",
    "# Split full train set into train and validation.\n",
    "X_train, X_valid, y_train, y_valid = train_test_split(X, y, stratify=y, test_size=0.2,  random_state=123)"
   ]
  },
  {
   "cell_type": "code",
   "execution_count": 5,
   "metadata": {
    "execution": {
     "iopub.execute_input": "2020-10-11T11:11:07.951475Z",
     "iopub.status.busy": "2020-10-11T11:11:07.950767Z",
     "iopub.status.idle": "2020-10-11T11:11:07.954827Z",
     "shell.execute_reply": "2020-10-11T11:11:07.954285Z"
    },
    "papermill": {
     "duration": 0.041384,
     "end_time": "2020-10-11T11:11:07.954924",
     "exception": false,
     "start_time": "2020-10-11T11:11:07.913540",
     "status": "completed"
    },
    "tags": []
   },
   "outputs": [],
   "source": [
    "def plot_kannada(X, y, num_images):\n",
    "    plt.figure(figsize=(10, 8))\n",
    "    for idx in range(num_images):\n",
    "        plt.subplot(num_images // 5, 5, idx+1)\n",
    "        plt.imshow(X[idx].reshape(28, 28), cmap=\"gray\")\n",
    "        plt.title(y[idx], fontsize=16)\n",
    "        plt.axis(\"off\")"
   ]
  },
  {
   "cell_type": "code",
   "execution_count": 6,
   "metadata": {
    "execution": {
     "iopub.execute_input": "2020-10-11T11:11:08.017577Z",
     "iopub.status.busy": "2020-10-11T11:11:08.016870Z",
     "iopub.status.idle": "2020-10-11T11:11:08.800400Z",
     "shell.execute_reply": "2020-10-11T11:11:08.800947Z"
    },
    "papermill": {
     "duration": 0.816562,
     "end_time": "2020-10-11T11:11:08.801077",
     "exception": false,
     "start_time": "2020-10-11T11:11:07.984515",
     "status": "completed"
    },
    "tags": []
   },
   "outputs": [
    {
     "data": {
      "image/png": "[encoded data removed]",
      "text/plain": [
       "<Figure size 720x576 with 20 Axes>"
      ]
     },
     "metadata": {
      "needs_background": "light"
     },
     "output_type": "display_data"
    }
   ],
   "source": [
    "plot_kannada(X_train, y_train, 20)\n",
    "plt.show()"
   ]
  },
  {
   "cell_type": "markdown",
   "metadata": {
    "papermill": {
     "duration": 0.033065,
     "end_time": "2020-10-11T11:11:08.867327",
     "exception": false,
     "start_time": "2020-10-11T11:11:08.834262",
     "status": "completed"
    },
    "tags": []
   },
   "source": [
    "Now lets look at the test set."
   ]
  },
  {
   "cell_type": "code",
   "execution_count": 7,
   "metadata": {
    "execution": {
     "iopub.execute_input": "2020-10-11T11:11:08.932554Z",
     "iopub.status.busy": "2020-10-11T11:11:08.931925Z",
     "iopub.status.idle": "2020-10-11T11:11:09.327101Z",
     "shell.execute_reply": "2020-10-11T11:11:09.326555Z"
    },
    "papermill": {
     "duration": 0.429487,
     "end_time": "2020-10-11T11:11:09.327266",
     "exception": false,
     "start_time": "2020-10-11T11:11:08.897779",
     "status": "completed"
    },
    "tags": []
   },
   "outputs": [],
   "source": [
    "X_test, id_test = read_kannada_dataset(r\"data/test.csv\")"
   ]
  },
  {
   "cell_type": "code",
   "execution_count": 8,
   "metadata": {
    "execution": {
     "iopub.execute_input": "2020-10-11T11:11:09.401243Z",
     "iopub.status.busy": "2020-10-11T11:11:09.399913Z",
     "iopub.status.idle": "2020-10-11T11:11:10.262580Z",
     "shell.execute_reply": "2020-10-11T11:11:10.263220Z"
    },
    "papermill": {
     "duration": 0.90391,
     "end_time": "2020-10-11T11:11:10.263373",
     "exception": false,
     "start_time": "2020-10-11T11:11:09.359463",
     "status": "completed"
    },
    "tags": []
   },
   "outputs": [
    {
     "data": {
      "image/png": "[encoded data removed]",
      "text/plain": [
       "<Figure size 720x576 with 20 Axes>"
      ]
     },
     "metadata": {
      "needs_background": "light"
     },
     "output_type": "display_data"
    }
   ],
   "source": [
    "plot_kannada(X_test, id_test, 20)\n",
    "plt.show()"
   ]
  },
  {
   "cell_type": "markdown",
   "metadata": {
    "papermill": {
     "duration": 0.058867,
     "end_time": "2020-10-11T11:11:10.379100",
     "exception": false,
     "start_time": "2020-10-11T11:11:10.320233",
     "status": "completed"
    },
    "tags": []
   },
   "source": [
    "By looking at the images in the test set the seem less clear than the ones on the train set. So lets creat a data generator that will disotrt the images on the train set. This will help the model to learn more generalized patterns."
   ]
  },
  {
   "cell_type": "code",
   "execution_count": 9,
   "metadata": {
    "execution": {
     "iopub.execute_input": "2020-10-11T11:11:10.514137Z",
     "iopub.status.busy": "2020-10-11T11:11:10.512547Z",
     "iopub.status.idle": "2020-10-11T11:11:10.515250Z",
     "shell.execute_reply": "2020-10-11T11:11:10.515988Z"
    },
    "papermill": {
     "duration": 0.074149,
     "end_time": "2020-10-11T11:11:10.516191",
     "exception": false,
     "start_time": "2020-10-11T11:11:10.442042",
     "status": "completed"
    },
    "tags": []
   },
   "outputs": [],
   "source": [
    "data_generator = tf.keras.preprocessing.image.ImageDataGenerator(\n",
    "    rotation_range=10,\n",
    "    width_shift_range=0.25,\n",
    "    height_shift_range = 0.25,\n",
    "    shear_range = 0.15,\n",
    "    zoom_range = 0.15,\n",
    "    horizontal_flip = False\n",
    ")"
   ]
  },
  {
   "cell_type": "code",
   "execution_count": 10,
   "metadata": {
    "execution": {
     "iopub.execute_input": "2020-10-11T11:11:10.646619Z",
     "iopub.status.busy": "2020-10-11T11:11:10.636397Z",
     "iopub.status.idle": "2020-10-11T11:11:10.822490Z",
     "shell.execute_reply": "2020-10-11T11:11:10.823640Z"
    },
    "papermill": {
     "duration": 0.252478,
     "end_time": "2020-10-11T11:11:10.824030",
     "exception": false,
     "start_time": "2020-10-11T11:11:10.571552",
     "status": "completed"
    },
    "tags": []
   },
   "outputs": [],
   "source": [
    "data_generator.fit(X_train)"
   ]
  },
  {
   "cell_type": "code",
   "execution_count": 11,
   "metadata": {
    "execution": {
     "iopub.execute_input": "2020-10-11T11:11:10.920730Z",
     "iopub.status.busy": "2020-10-11T11:11:10.919721Z",
     "iopub.status.idle": "2020-10-11T11:11:11.397565Z",
     "shell.execute_reply": "2020-10-11T11:11:11.398677Z"
    },
    "papermill": {
     "duration": 0.526778,
     "end_time": "2020-10-11T11:11:11.398868",
     "exception": false,
     "start_time": "2020-10-11T11:11:10.872090",
     "status": "completed"
    },
    "tags": []
   },
   "outputs": [
    {
     "data": {
      "image/png": "[encoded data removed]",
      "text/plain": [
       "<Figure size 720x576 with 20 Axes>"
      ]
     },
     "metadata": {
      "needs_background": "light"
     },
     "output_type": "display_data"
    }
   ],
   "source": [
    "for X_batch, y_batch in data_generator.flow(X_train, y_train, seed=123, batch_size=20):\n",
    "    plot_kannada(X_batch, y_batch, 20)\n",
    "    plt.show()\n",
    "    break"
   ]
  },
  {
   "cell_type": "code",
   "execution_count": 12,
   "metadata": {
    "execution": {
     "iopub.execute_input": "2020-10-11T11:11:11.476329Z",
     "iopub.status.busy": "2020-10-11T11:11:11.475071Z",
     "iopub.status.idle": "2020-10-11T11:11:11.479289Z",
     "shell.execute_reply": "2020-10-11T11:11:11.478717Z"
    },
    "papermill": {
     "duration": 0.041196,
     "end_time": "2020-10-11T11:11:11.479390",
     "exception": false,
     "start_time": "2020-10-11T11:11:11.438194",
     "status": "completed"
    },
    "tags": []
   },
   "outputs": [],
   "source": [
    "y_train = tf.keras.utils.to_categorical(y_train, 10)\n",
    "y_valid = tf.keras.utils.to_categorical(y_valid, 10)"
   ]
  },
  {
   "cell_type": "code",
   "execution_count": 13,
   "metadata": {
    "execution": {
     "iopub.execute_input": "2020-10-11T11:11:12.463026Z",
     "iopub.status.busy": "2020-10-11T11:11:12.462191Z",
     "iopub.status.idle": "2020-10-11T11:11:14.504084Z",
     "shell.execute_reply": "2020-10-11T11:11:14.503365Z"
    },
    "papermill": {
     "duration": 2.992768,
     "end_time": "2020-10-11T11:11:14.504230",
     "exception": false,
     "start_time": "2020-10-11T11:11:11.511462",
     "status": "completed"
    },
    "tags": []
   },
   "outputs": [],
   "source": [
    "# Build tensorflow dataset.\n",
    "batch_size = 32\n",
    "train_set = tf.data.Dataset.from_tensor_slices((X_train, y_train)).shuffle(len(X_train)).batch(batch_size).prefetch(1)\n",
    "valid_set = tf.data.Dataset.from_tensor_slices((X_valid, y_valid)).batch(batch_size).prefetch(1)"
   ]
  },
  {
   "cell_type": "markdown",
   "metadata": {
    "papermill": {
     "duration": 0.033826,
     "end_time": "2020-10-11T11:11:14.574398",
     "exception": false,
     "start_time": "2020-10-11T11:11:14.540572",
     "status": "completed"
    },
    "tags": []
   },
   "source": [
    "# Build the model"
   ]
  },
  {
   "cell_type": "code",
   "execution_count": 14,
   "metadata": {
    "execution": {
     "iopub.execute_input": "2020-10-11T11:11:14.648033Z",
     "iopub.status.busy": "2020-10-11T11:11:14.647412Z",
     "iopub.status.idle": "2020-10-11T11:11:14.655003Z",
     "shell.execute_reply": "2020-10-11T11:11:14.654476Z"
    },
    "papermill": {
     "duration": 0.047477,
     "end_time": "2020-10-11T11:11:14.655103",
     "exception": false,
     "start_time": "2020-10-11T11:11:14.607626",
     "status": "completed"
    },
    "tags": []
   },
   "outputs": [],
   "source": [
    "tf.keras.backend.clear_session()\n",
    "tf.random.set_seed(42)\n",
    "np.random.seed(42)"
   ]
  },
  {
   "cell_type": "code",
   "execution_count": 15,
   "metadata": {
    "execution": {
     "iopub.execute_input": "2020-10-11T11:11:14.736869Z",
     "iopub.status.busy": "2020-10-11T11:11:14.736243Z",
     "iopub.status.idle": "2020-10-11T11:11:15.406991Z",
     "shell.execute_reply": "2020-10-11T11:11:15.406473Z"
    },
    "papermill": {
     "duration": 0.718527,
     "end_time": "2020-10-11T11:11:15.407102",
     "exception": false,
     "start_time": "2020-10-11T11:11:14.688575",
     "status": "completed"
    },
    "tags": []
   },
   "outputs": [],
   "source": [
    "model = models.Sequential([\n",
    "    layers.BatchNormalization(input_shape=[28, 28, 1]),\n",
    "    \n",
    "    layers.Conv2D(64, 3, padding=\"same\", use_bias=False),\n",
    "    layers.BatchNormalization(),\n",
    "    layers.LeakyReLU(alpha=0.1),\n",
    "    layers.Conv2D(64, 3, padding=\"same\", use_bias=False),\n",
    "    layers.BatchNormalization(),\n",
    "    layers.LeakyReLU(alpha=0.1),\n",
    "    layers.Conv2D(64, 3, padding=\"same\", use_bias=False),\n",
    "    layers.BatchNormalization(),\n",
    "    layers.LeakyReLU(alpha=0.1),\n",
    "    layers.MaxPool2D(2),\n",
    "    \n",
    "    layers.Conv2D(128, 3, padding=\"same\", use_bias=False),\n",
    "    layers.BatchNormalization(),\n",
    "    layers.LeakyReLU(alpha=0.1),\n",
    "    layers.Conv2D(128, 3, padding=\"same\", use_bias=False),\n",
    "    layers.BatchNormalization(),\n",
    "    layers.LeakyReLU(alpha=0.1),\n",
    "    layers.Conv2D(128, 3, padding=\"same\", use_bias=False),\n",
    "    layers.BatchNormalization(),\n",
    "    layers.LeakyReLU(alpha=0.1),\n",
    "    layers.MaxPool2D(2),\n",
    "    \n",
    "    layers.Conv2D(256, 2, padding=\"same\", use_bias=False),\n",
    "    layers.BatchNormalization(),\n",
    "    layers.LeakyReLU(alpha=0.1),\n",
    "    layers.Conv2D(256, 2, padding=\"same\", use_bias=False),\n",
    "    layers.BatchNormalization(),\n",
    "    layers.LeakyReLU(alpha=0.1),\n",
    "    layers.Conv2D(256, 2, padding=\"same\", use_bias=False),\n",
    "    layers.BatchNormalization(),\n",
    "    layers.LeakyReLU(alpha=0.1),\n",
    "    layers.MaxPool2D(2),\n",
    "\n",
    "    \n",
    "    layers.GlobalAveragePooling2D(),\n",
    "    layers.Dropout(0.2),\n",
    "    layers.Dense(256, activation=\"relu\"),\n",
    "    layers.Dropout(0.5),\n",
    "    layers.Dense(10, activation=\"softmax\")\n",
    "])"
   ]
  },
  {
   "cell_type": "code",
   "execution_count": 16,
   "metadata": {
    "execution": {
     "iopub.execute_input": "2020-10-11T11:11:15.482753Z",
     "iopub.status.busy": "2020-10-11T11:11:15.481190Z",
     "iopub.status.idle": "2020-10-11T11:11:15.503198Z",
     "shell.execute_reply": "2020-10-11T11:11:15.503975Z"
    },
    "papermill": {
     "duration": 0.063998,
     "end_time": "2020-10-11T11:11:15.504187",
     "exception": false,
     "start_time": "2020-10-11T11:11:15.440189",
     "status": "completed"
    },
    "tags": []
   },
   "outputs": [
    {
     "name": "stdout",
     "output_type": "stream",
     "text": [
      "Model: \"sequential\"\n",
      "_________________________________________________________________\n",
      "Layer (type)                 Output Shape              Param #   \n",
      "=================================================================\n",
      "batch_normalization (BatchNo (None, 28, 28, 1)         4         \n",
      "_________________________________________________________________\n",
      "conv2d (Conv2D)              (None, 28, 28, 64)        576       \n",
      "_________________________________________________________________\n",
      "batch_normalization_1 (Batch (None, 28, 28, 64)        256       \n",
      "_________________________________________________________________\n",
      "leaky_re_lu (LeakyReLU)      (None, 28, 28, 64)        0         \n",
      "_________________________________________________________________\n",
      "conv2d_1 (Conv2D)            (None, 28, 28, 64)        36864     \n",
      "_________________________________________________________________\n",
      "batch_normalization_2 (Batch (None, 28, 28, 64)        256       \n",
      "_________________________________________________________________\n",
      "leaky_re_lu_1 (LeakyReLU)    (None, 28, 28, 64)        0         \n",
      "_________________________________________________________________\n",
      "conv2d_2 (Conv2D)            (None, 28, 28, 64)        36864     \n",
      "_________________________________________________________________\n",
      "batch_normalization_3 (Batch (None, 28, 28, 64)        256       \n",
      "_________________________________________________________________\n",
      "leaky_re_lu_2 (LeakyReLU)    (None, 28, 28, 64)        0         \n",
      "_________________________________________________________________\n",
      "max_pooling2d (MaxPooling2D) (None, 14, 14, 64)        0         \n",
      "_________________________________________________________________\n",
      "conv2d_3 (Conv2D)            (None, 14, 14, 128)       73728     \n",
      "_________________________________________________________________\n",
      "batch_normalization_4 (Batch (None, 14, 14, 128)       512       \n",
      "_________________________________________________________________\n",
      "leaky_re_lu_3 (LeakyReLU)    (None, 14, 14, 128)       0         \n",
      "_________________________________________________________________\n",
      "conv2d_4 (Conv2D)            (None, 14, 14, 128)       147456    \n",
      "_________________________________________________________________\n",
      "batch_normalization_5 (Batch (None, 14, 14, 128)       512       \n",
      "_________________________________________________________________\n",
      "leaky_re_lu_4 (LeakyReLU)    (None, 14, 14, 128)       0         \n",
      "_________________________________________________________________\n",
      "conv2d_5 (Conv2D)            (None, 14, 14, 128)       147456    \n",
      "_________________________________________________________________\n",
      "batch_normalization_6 (Batch (None, 14, 14, 128)       512       \n",
      "_________________________________________________________________\n",
      "leaky_re_lu_5 (LeakyReLU)    (None, 14, 14, 128)       0         \n",
      "_________________________________________________________________\n",
      "max_pooling2d_1 (MaxPooling2 (None, 7, 7, 128)         0         \n",
      "_________________________________________________________________\n",
      "conv2d_6 (Conv2D)            (None, 7, 7, 256)         131072    \n",
      "_________________________________________________________________\n",
      "batch_normalization_7 (Batch (None, 7, 7, 256)         1024      \n",
      "_________________________________________________________________\n",
      "leaky_re_lu_6 (LeakyReLU)    (None, 7, 7, 256)         0         \n",
      "_________________________________________________________________\n",
      "conv2d_7 (Conv2D)            (None, 7, 7, 256)         262144    \n",
      "_________________________________________________________________\n",
      "batch_normalization_8 (Batch (None, 7, 7, 256)         1024      \n",
      "_________________________________________________________________\n",
      "leaky_re_lu_7 (LeakyReLU)    (None, 7, 7, 256)         0         \n",
      "_________________________________________________________________\n",
      "conv2d_8 (Conv2D)            (None, 7, 7, 256)         262144    \n",
      "_________________________________________________________________\n",
      "batch_normalization_9 (Batch (None, 7, 7, 256)         1024      \n",
      "_________________________________________________________________\n",
      "leaky_re_lu_8 (LeakyReLU)    (None, 7, 7, 256)         0         \n",
      "_________________________________________________________________\n",
      "max_pooling2d_2 (MaxPooling2 (None, 3, 3, 256)         0         \n",
      "_________________________________________________________________\n",
      "global_average_pooling2d (Gl (None, 256)               0         \n",
      "_________________________________________________________________\n",
      "dropout (Dropout)            (None, 256)               0         \n",
      "_________________________________________________________________\n",
      "dense (Dense)                (None, 256)               65792     \n",
      "_________________________________________________________________\n",
      "dropout_1 (Dropout)          (None, 256)               0         \n",
      "_________________________________________________________________\n",
      "dense_1 (Dense)              (None, 10)                2570      \n",
      "=================================================================\n",
      "Total params: 1,172,046\n",
      "Trainable params: 1,169,356\n",
      "Non-trainable params: 2,690\n",
      "_________________________________________________________________\n"
     ]
    }
   ],
   "source": [
    "model.summary()"
   ]
  },
  {
   "cell_type": "code",
   "execution_count": 17,
   "metadata": {
    "execution": {
     "iopub.execute_input": "2020-10-11T11:11:15.587481Z",
     "iopub.status.busy": "2020-10-11T11:11:15.586876Z",
     "iopub.status.idle": "2020-10-11T11:11:15.611578Z",
     "shell.execute_reply": "2020-10-11T11:11:15.611069Z"
    },
    "papermill": {
     "duration": 0.063131,
     "end_time": "2020-10-11T11:11:15.611675",
     "exception": false,
     "start_time": "2020-10-11T11:11:15.548544",
     "status": "completed"
    },
    "tags": []
   },
   "outputs": [],
   "source": [
    "initial_weights = model.get_weights()"
   ]
  },
  {
   "cell_type": "markdown",
   "metadata": {
    "papermill": {
     "duration": 0.033788,
     "end_time": "2020-10-11T11:11:15.679355",
     "exception": false,
     "start_time": "2020-10-11T11:11:15.645567",
     "status": "completed"
    },
    "tags": []
   },
   "source": [
    "## Find the best learning rate for this architecture."
   ]
  },
  {
   "cell_type": "markdown",
   "metadata": {
    "papermill": {
     "duration": 0.033385,
     "end_time": "2020-10-11T11:11:15.746425",
     "exception": false,
     "start_time": "2020-10-11T11:11:15.713040",
     "status": "completed"
    },
    "tags": []
   },
   "source": [
    "To have an idea of the best learning rate to use we can increase the learning rate while training and look for the loss. I will start with a learning rate of $10^{-5}$ and increase it until $1$."
   ]
  },
  {
   "cell_type": "code",
   "execution_count": 18,
   "metadata": {
    "execution": {
     "iopub.execute_input": "2020-10-11T11:11:15.821728Z",
     "iopub.status.busy": "2020-10-11T11:11:15.821018Z",
     "iopub.status.idle": "2020-10-11T11:11:15.824588Z",
     "shell.execute_reply": "2020-10-11T11:11:15.824105Z"
    },
    "papermill": {
     "duration": 0.044605,
     "end_time": "2020-10-11T11:11:15.824683",
     "exception": false,
     "start_time": "2020-10-11T11:11:15.780078",
     "status": "completed"
    },
    "tags": []
   },
   "outputs": [],
   "source": [
    "class ExponentialLearningRate(callbacks.Callback):\n",
    "    def __init__(self, factor):\n",
    "        self.factor = factor\n",
    "        self.losses = []\n",
    "        self.rates = []\n",
    "\n",
    "    def on_batch_end(self, batch, logs=None):\n",
    "        self.rates.append(tf.keras.backend.get_value(self.model.optimizer.lr))\n",
    "        self.losses.append(logs[\"loss\"])\n",
    "        tf.keras.backend.set_value(self.model.optimizer.lr, self.model.optimizer.lr * self.factor)"
   ]
  },
  {
   "cell_type": "code",
   "execution_count": 19,
   "metadata": {
    "execution": {
     "iopub.execute_input": "2020-10-11T11:11:15.899562Z",
     "iopub.status.busy": "2020-10-11T11:11:15.897675Z",
     "iopub.status.idle": "2020-10-11T11:11:15.900352Z",
     "shell.execute_reply": "2020-10-11T11:11:15.900897Z"
    },
    "papermill": {
     "duration": 0.042925,
     "end_time": "2020-10-11T11:11:15.901029",
     "exception": false,
     "start_time": "2020-10-11T11:11:15.858104",
     "status": "completed"
    },
    "tags": []
   },
   "outputs": [],
   "source": [
    "factor = 1e6 ** (1/1500)\n",
    "\n",
    "exp_lr = ExponentialLearningRate(factor)"
   ]
  },
  {
   "cell_type": "code",
   "execution_count": 20,
   "metadata": {
    "execution": {
     "iopub.execute_input": "2020-10-11T11:11:15.987853Z",
     "iopub.status.busy": "2020-10-11T11:11:15.986980Z",
     "iopub.status.idle": "2020-10-11T11:11:15.994035Z",
     "shell.execute_reply": "2020-10-11T11:11:15.993573Z"
    },
    "papermill": {
     "duration": 0.054296,
     "end_time": "2020-10-11T11:11:15.994143",
     "exception": false,
     "start_time": "2020-10-11T11:11:15.939847",
     "status": "completed"
    },
    "tags": []
   },
   "outputs": [],
   "source": [
    "model.compile(\n",
    "    optimizer=optimizers.Nadam(lr=1e-5),\n",
    "    loss=losses.categorical_crossentropy,\n",
    "    metrics=[metrics.categorical_accuracy]\n",
    ")"
   ]
  },
  {
   "cell_type": "code",
   "execution_count": 21,
   "metadata": {
    "execution": {
     "iopub.execute_input": "2020-10-11T11:11:16.075370Z",
     "iopub.status.busy": "2020-10-11T11:11:16.074535Z",
     "iopub.status.idle": "2020-10-11T11:11:43.870634Z",
     "shell.execute_reply": "2020-10-11T11:11:43.871916Z"
    },
    "papermill": {
     "duration": 27.841202,
     "end_time": "2020-10-11T11:11:43.872100",
     "exception": false,
     "start_time": "2020-10-11T11:11:16.030898",
     "status": "completed"
    },
    "tags": []
   },
   "outputs": [
    {
     "name": "stdout",
     "output_type": "stream",
     "text": [
      "1500/1500 [==============================] - 21s 14ms/step - loss: 2.7185 - categorical_accuracy: 0.4854\n"
     ]
    }
   ],
   "source": [
    "history = model.fit(train_set, epochs=1, callbacks=[exp_lr])"
   ]
  },
  {
   "cell_type": "code",
   "execution_count": 22,
   "metadata": {
    "execution": {
     "iopub.execute_input": "2020-10-11T11:11:44.232054Z",
     "iopub.status.busy": "2020-10-11T11:11:44.231165Z",
     "iopub.status.idle": "2020-10-11T11:11:44.235168Z",
     "shell.execute_reply": "2020-10-11T11:11:44.234658Z"
    },
    "papermill": {
     "duration": 0.180135,
     "end_time": "2020-10-11T11:11:44.235307",
     "exception": false,
     "start_time": "2020-10-11T11:11:44.055172",
     "status": "completed"
    },
    "tags": []
   },
   "outputs": [],
   "source": [
    "def plot_lr_vs_loss(rates, losses):\n",
    "    plt.plot(rates, losses)\n",
    "    plt.gca().set_xscale(\"log\")\n",
    "    plt.xlabel(\"Learning Rate\")\n",
    "    plt.ylabel(\"Loss\")\n",
    "    plt.ylim((min(losses), losses[0]))"
   ]
  },
  {
   "cell_type": "code",
   "execution_count": 23,
   "metadata": {
    "execution": {
     "iopub.execute_input": "2020-10-11T11:11:44.581584Z",
     "iopub.status.busy": "2020-10-11T11:11:44.580593Z",
     "iopub.status.idle": "2020-10-11T11:11:45.693546Z",
     "shell.execute_reply": "2020-10-11T11:11:45.694556Z"
    },
    "papermill": {
     "duration": 1.293765,
     "end_time": "2020-10-11T11:11:45.694800",
     "exception": false,
     "start_time": "2020-10-11T11:11:44.401035",
     "status": "completed"
    },
    "tags": []
   },
   "outputs": [
    {
     "data": {
      "image/png": "[encoded data removed]",
      "text/plain": [
       "<Figure size 432x288 with 1 Axes>"
      ]
     },
     "metadata": {
      "needs_background": "light"
     },
     "output_type": "display_data"
    }
   ],
   "source": [
    "plot_lr_vs_loss(exp_lr.rates, exp_lr.losses)"
   ]
  },
  {
   "cell_type": "markdown",
   "metadata": {
    "papermill": {
     "duration": 0.189362,
     "end_time": "2020-10-11T11:11:46.084570",
     "exception": false,
     "start_time": "2020-10-11T11:11:45.895208",
     "status": "completed"
    },
    "tags": []
   },
   "source": [
    "So 0.001 should be a good learning rate to start."
   ]
  },
  {
   "cell_type": "markdown",
   "metadata": {
    "papermill": {
     "duration": 0.163622,
     "end_time": "2020-10-11T11:11:46.414112",
     "exception": false,
     "start_time": "2020-10-11T11:11:46.250490",
     "status": "completed"
    },
    "tags": []
   },
   "source": [
    "# Train the model"
   ]
  },
  {
   "cell_type": "markdown",
   "metadata": {
    "papermill": {
     "duration": 0.167171,
     "end_time": "2020-10-11T11:11:46.747101",
     "exception": false,
     "start_time": "2020-10-11T11:11:46.579930",
     "status": "completed"
    },
    "tags": []
   },
   "source": [
    "Restore the weights to the values before the learning rate test."
   ]
  },
  {
   "cell_type": "code",
   "execution_count": 24,
   "metadata": {
    "execution": {
     "iopub.execute_input": "2020-10-11T11:11:47.107836Z",
     "iopub.status.busy": "2020-10-11T11:11:47.106832Z",
     "iopub.status.idle": "2020-10-11T11:11:47.127533Z",
     "shell.execute_reply": "2020-10-11T11:11:47.126707Z"
    },
    "papermill": {
     "duration": 0.206138,
     "end_time": "2020-10-11T11:11:47.127644",
     "exception": false,
     "start_time": "2020-10-11T11:11:46.921506",
     "status": "completed"
    },
    "tags": []
   },
   "outputs": [],
   "source": [
    "model.set_weights(initial_weights)"
   ]
  },
  {
   "cell_type": "code",
   "execution_count": 25,
   "metadata": {
    "execution": {
     "iopub.execute_input": "2020-10-11T11:11:47.464943Z",
     "iopub.status.busy": "2020-10-11T11:11:47.464065Z",
     "iopub.status.idle": "2020-10-11T11:11:47.479920Z",
     "shell.execute_reply": "2020-10-11T11:11:47.479421Z"
    },
    "papermill": {
     "duration": 0.185208,
     "end_time": "2020-10-11T11:11:47.480015",
     "exception": false,
     "start_time": "2020-10-11T11:11:47.294807",
     "status": "completed"
    },
    "tags": []
   },
   "outputs": [],
   "source": [
    "model.compile(\n",
    "    optimizer=optimizers.Nadam(lr=1e-3),\n",
    "    loss=losses.categorical_crossentropy,\n",
    "    metrics=[metrics.categorical_accuracy]\n",
    ")"
   ]
  },
  {
   "cell_type": "markdown",
   "metadata": {
    "papermill": {
     "duration": 0.164341,
     "end_time": "2020-10-11T11:11:47.819334",
     "exception": false,
     "start_time": "2020-10-11T11:11:47.654993",
     "status": "completed"
    },
    "tags": []
   },
   "source": [
    "Callbacks."
   ]
  },
  {
   "cell_type": "code",
   "execution_count": 26,
   "metadata": {
    "execution": {
     "iopub.execute_input": "2020-10-11T11:11:48.156729Z",
     "iopub.status.busy": "2020-10-11T11:11:48.156043Z",
     "iopub.status.idle": "2020-10-11T11:11:48.160492Z",
     "shell.execute_reply": "2020-10-11T11:11:48.159929Z"
    },
    "papermill": {
     "duration": 0.176722,
     "end_time": "2020-10-11T11:11:48.160593",
     "exception": false,
     "start_time": "2020-10-11T11:11:47.983871",
     "status": "completed"
    },
    "tags": []
   },
   "outputs": [],
   "source": [
    "checkpoint_cb = callbacks.ModelCheckpoint(r\"model.h5\", save_best_only=True)\n",
    "early_stop_cb = callbacks.EarlyStopping(patience=10, restore_best_weights=True)\n",
    "reduce_lr_cb  = callbacks.ReduceLROnPlateau(factor=0.2, patience=3, min_lr=1e-6, verbose=1)"
   ]
  },
  {
   "cell_type": "code",
   "execution_count": 27,
   "metadata": {
    "execution": {
     "iopub.execute_input": "2020-10-11T11:11:48.495949Z",
     "iopub.status.busy": "2020-10-11T11:11:48.494835Z",
     "iopub.status.idle": "2020-10-11T11:29:50.670469Z",
     "shell.execute_reply": "2020-10-11T11:29:50.671049Z"
    },
    "papermill": {
     "duration": 1082.34434,
     "end_time": "2020-10-11T11:29:50.671232",
     "exception": false,
     "start_time": "2020-10-11T11:11:48.326892",
     "status": "completed"
    },
    "tags": []
   },
   "outputs": [
    {
     "name": "stdout",
     "output_type": "stream",
     "text": [
      "Epoch 1/100\n",
      "1500/1500 [==============================] - 30s 20ms/step - loss: 0.2065 - categorical_accuracy: 0.9353 - val_loss: 0.0416 - val_categorical_accuracy: 0.9892\n",
      "Epoch 2/100\n",
      "1500/1500 [==============================] - 28s 19ms/step - loss: 0.0774 - categorical_accuracy: 0.9771 - val_loss: 0.0529 - val_categorical_accuracy: 0.9853\n",
      "Epoch 3/100\n",
      "1500/1500 [==============================] - 29s 20ms/step - loss: 0.0657 - categorical_accuracy: 0.9810 - val_loss: 0.0784 - val_categorical_accuracy: 0.9770\n",
      "Epoch 4/100\n",
      "1500/1500 [==============================] - 30s 20ms/step - loss: 0.0548 - categorical_accuracy: 0.9843 - val_loss: 0.0191 - val_categorical_accuracy: 0.9948\n",
      "Epoch 5/100\n",
      "1500/1500 [==============================] - 30s 20ms/step - loss: 0.0515 - categorical_accuracy: 0.9852 - val_loss: 0.0152 - val_categorical_accuracy: 0.9956\n",
      "Epoch 6/100\n",
      "1500/1500 [==============================] - 29s 20ms/step - loss: 0.0439 - categorical_accuracy: 0.9876 - val_loss: 0.0238 - val_categorical_accuracy: 0.9929\n",
      "Epoch 7/100\n",
      "1500/1500 [==============================] - 31s 20ms/step - loss: 0.0442 - categorical_accuracy: 0.9875 - val_loss: 0.0221 - val_categorical_accuracy: 0.9942\n",
      "Epoch 8/100\n",
      "1500/1500 [==============================] - 30s 20ms/step - loss: 0.0396 - categorical_accuracy: 0.9881 - val_loss: 0.0151 - val_categorical_accuracy: 0.9949\n",
      "Epoch 9/100\n",
      "1500/1500 [==============================] - 31s 20ms/step - loss: 0.0340 - categorical_accuracy: 0.9901 - val_loss: 0.0155 - val_categorical_accuracy: 0.9955\n",
      "Epoch 10/100\n",
      "1500/1500 [==============================] - 30s 20ms/step - loss: 0.0360 - categorical_accuracy: 0.9892 - val_loss: 0.0203 - val_categorical_accuracy: 0.9938\n",
      "Epoch 11/100\n",
      "1500/1500 [==============================] - 31s 21ms/step - loss: 0.0340 - categorical_accuracy: 0.9908 - val_loss: 0.0140 - val_categorical_accuracy: 0.9955\n",
      "Epoch 12/100\n",
      "1500/1500 [==============================] - 29s 19ms/step - loss: 0.0329 - categorical_accuracy: 0.9902 - val_loss: 0.0153 - val_categorical_accuracy: 0.9958\n",
      "Epoch 13/100\n",
      "1500/1500 [==============================] - 63s 42ms/step - loss: 0.0313 - categorical_accuracy: 0.9906 - val_loss: 0.0145 - val_categorical_accuracy: 0.9957\n",
      "Epoch 14/100\n",
      "1498/1500 [============================>.] - ETA: 0s - loss: 0.0282 - categorical_accuracy: 0.9915\n",
      "Epoch 00014: ReduceLROnPlateau reducing learning rate to 0.00020000000949949026.\n",
      "1500/1500 [==============================] - 49s 33ms/step - loss: 0.0282 - categorical_accuracy: 0.9915 - val_loss: 0.0161 - val_categorical_accuracy: 0.9962\n",
      "Epoch 15/100\n",
      "1500/1500 [==============================] - 30s 20ms/step - loss: 0.0190 - categorical_accuracy: 0.9942 - val_loss: 0.0110 - val_categorical_accuracy: 0.9971\n",
      "Epoch 16/100\n",
      "1500/1500 [==============================] - 28s 19ms/step - loss: 0.0178 - categorical_accuracy: 0.9943 - val_loss: 0.0083 - val_categorical_accuracy: 0.9978\n",
      "Epoch 17/100\n",
      "1500/1500 [==============================] - 32s 21ms/step - loss: 0.0174 - categorical_accuracy: 0.9947 - val_loss: 0.0087 - val_categorical_accuracy: 0.9977\n",
      "Epoch 18/100\n",
      "1500/1500 [==============================] - 29s 19ms/step - loss: 0.0166 - categorical_accuracy: 0.9947 - val_loss: 0.0094 - val_categorical_accuracy: 0.9973\n",
      "Epoch 19/100\n",
      "1498/1500 [============================>.] - ETA: 0s - loss: 0.0156 - categorical_accuracy: 0.9951\n",
      "Epoch 00019: ReduceLROnPlateau reducing learning rate to 4.0000001899898055e-05.\n",
      "1500/1500 [==============================] - 32s 22ms/step - loss: 0.0155 - categorical_accuracy: 0.9951 - val_loss: 0.0092 - val_categorical_accuracy: 0.9978\n",
      "Epoch 20/100\n",
      "1500/1500 [==============================] - 28s 19ms/step - loss: 0.0140 - categorical_accuracy: 0.9953 - val_loss: 0.0081 - val_categorical_accuracy: 0.9979\n",
      "Epoch 21/100\n",
      "1500/1500 [==============================] - 33s 22ms/step - loss: 0.0118 - categorical_accuracy: 0.9963 - val_loss: 0.0088 - val_categorical_accuracy: 0.9978\n",
      "Epoch 22/100\n",
      "1500/1500 [==============================] - 28s 19ms/step - loss: 0.0133 - categorical_accuracy: 0.9958 - val_loss: 0.0083 - val_categorical_accuracy: 0.9980\n",
      "Epoch 23/100\n",
      "1500/1500 [==============================] - 33s 22ms/step - loss: 0.0127 - categorical_accuracy: 0.9958 - val_loss: 0.0078 - val_categorical_accuracy: 0.9981\n",
      "Epoch 24/100\n",
      "1500/1500 [==============================] - 28s 19ms/step - loss: 0.0122 - categorical_accuracy: 0.9958 - val_loss: 0.0076 - val_categorical_accuracy: 0.9981\n",
      "Epoch 25/100\n",
      "1500/1500 [==============================] - 29s 19ms/step - loss: 0.0129 - categorical_accuracy: 0.9956 - val_loss: 0.0078 - val_categorical_accuracy: 0.9983\n",
      "Epoch 26/100\n",
      "1500/1500 [==============================] - 33s 22ms/step - loss: 0.0118 - categorical_accuracy: 0.9961 - val_loss: 0.0082 - val_categorical_accuracy: 0.9981\n",
      "Epoch 27/100\n",
      "1497/1500 [============================>.] - ETA: 0s - loss: 0.0125 - categorical_accuracy: 0.9962\n",
      "Epoch 00027: ReduceLROnPlateau reducing learning rate to 8.000000525498762e-06.\n",
      "1500/1500 [==============================] - 29s 20ms/step - loss: 0.0125 - categorical_accuracy: 0.9962 - val_loss: 0.0081 - val_categorical_accuracy: 0.9983\n",
      "Epoch 28/100\n",
      "1500/1500 [==============================] - 32s 21ms/step - loss: 0.0107 - categorical_accuracy: 0.9966 - val_loss: 0.0081 - val_categorical_accuracy: 0.9983\n",
      "Epoch 29/100\n",
      "1500/1500 [==============================] - 30s 20ms/step - loss: 0.0115 - categorical_accuracy: 0.9962 - val_loss: 0.0082 - val_categorical_accuracy: 0.9983\n",
      "Epoch 30/100\n",
      "1498/1500 [============================>.] - ETA: 0s - loss: 0.0107 - categorical_accuracy: 0.9966\n",
      "Epoch 00030: ReduceLROnPlateau reducing learning rate to 1.6000001778593287e-06.\n",
      "1500/1500 [==============================] - 32s 22ms/step - loss: 0.0107 - categorical_accuracy: 0.9966 - val_loss: 0.0080 - val_categorical_accuracy: 0.9983\n",
      "Epoch 31/100\n",
      "1500/1500 [==============================] - 30s 20ms/step - loss: 0.0107 - categorical_accuracy: 0.9966 - val_loss: 0.0079 - val_categorical_accuracy: 0.9983\n",
      "Epoch 32/100\n",
      "1500/1500 [==============================] - 30s 20ms/step - loss: 0.0111 - categorical_accuracy: 0.9962 - val_loss: 0.0080 - val_categorical_accuracy: 0.9983\n",
      "Epoch 33/100\n",
      "1500/1500 [==============================] - ETA: 0s - loss: 0.0116 - categorical_accuracy: 0.9963\n",
      "Epoch 00033: ReduceLROnPlateau reducing learning rate to 1e-06.\n",
      "1500/1500 [==============================] - 32s 21ms/step - loss: 0.0116 - categorical_accuracy: 0.9963 - val_loss: 0.0080 - val_categorical_accuracy: 0.9983\n",
      "Epoch 34/100\n",
      "1500/1500 [==============================] - 28s 19ms/step - loss: 0.0102 - categorical_accuracy: 0.9965 - val_loss: 0.0080 - val_categorical_accuracy: 0.9983\n"
     ]
    }
   ],
   "source": [
    "history = model.fit_generator(\n",
    "    data_generator.flow(X_train, y_train, seed=42),\n",
    "    epochs=100, \n",
    "    callbacks=[checkpoint_cb, early_stop_cb, reduce_lr_cb],\n",
    "    validation_data=valid_set\n",
    ")"
   ]
  },
  {
   "cell_type": "code",
   "execution_count": 28,
   "metadata": {
    "execution": {
     "iopub.execute_input": "2020-10-11T11:30:03.311161Z",
     "iopub.status.busy": "2020-10-11T11:30:03.310168Z",
     "iopub.status.idle": "2020-10-11T11:30:03.487778Z",
     "shell.execute_reply": "2020-10-11T11:30:03.488375Z"
    },
    "papermill": {
     "duration": 6.579368,
     "end_time": "2020-10-11T11:30:03.488547",
     "exception": false,
     "start_time": "2020-10-11T11:29:56.909179",
     "status": "completed"
    },
    "tags": []
   },
   "outputs": [
    {
     "data": {
      "image/png": "[encoded data removed]",
      "text/plain": [
       "<Figure size 432x288 with 1 Axes>"
      ]
     },
     "metadata": {
      "needs_background": "light"
     },
     "output_type": "display_data"
    }
   ],
   "source": [
    "plt.plot(history.epoch, history.history[\"loss\"], \"b.-\", label=\"Train loss\")\n",
    "plt.plot(history.epoch, history.history[\"val_loss\"], \"r.-\", label=\"Validation loss\")\n",
    "plt.grid()\n",
    "plt.legend()\n",
    "plt.show()"
   ]
  },
  {
   "cell_type": "code",
   "execution_count": 29,
   "metadata": {
    "execution": {
     "iopub.execute_input": "2020-10-11T11:30:17.042451Z",
     "iopub.status.busy": "2020-10-11T11:30:17.041265Z",
     "iopub.status.idle": "2020-10-11T11:30:18.332148Z",
     "shell.execute_reply": "2020-10-11T11:30:18.331612Z"
    },
    "papermill": {
     "duration": 7.626523,
     "end_time": "2020-10-11T11:30:18.332260",
     "exception": false,
     "start_time": "2020-10-11T11:30:10.705737",
     "status": "completed"
    },
    "tags": []
   },
   "outputs": [
    {
     "data": {
      "text/plain": [
       "0.9980833333333333"
      ]
     },
     "execution_count": 29,
     "metadata": {},
     "output_type": "execute_result"
    }
   ],
   "source": [
    "y_pred = model.predict_classes(X_valid)\n",
    "accuracy_score(np.argmax(y_valid, axis=1), y_pred)"
   ]
  },
  {
   "cell_type": "code",
   "execution_count": 30,
   "metadata": {
    "execution": {
     "iopub.execute_input": "2020-10-11T11:30:30.599326Z",
     "iopub.status.busy": "2020-10-11T11:30:30.598423Z",
     "iopub.status.idle": "2020-10-11T11:30:30.624320Z",
     "shell.execute_reply": "2020-10-11T11:30:30.623816Z"
    },
    "papermill": {
     "duration": 6.261503,
     "end_time": "2020-10-11T11:30:30.624427",
     "exception": false,
     "start_time": "2020-10-11T11:30:24.362924",
     "status": "completed"
    },
    "tags": []
   },
   "outputs": [
    {
     "data": {
      "text/plain": [
       "array([[1196,    4,    0,    0,    0,    0,    0,    0,    0,    0],\n",
       "       [   2, 1198,    0,    0,    0,    0,    0,    0,    0,    0],\n",
       "       [   0,    0, 1199,    1,    0,    0,    0,    0,    0,    0],\n",
       "       [   0,    0,    0, 1200,    0,    0,    0,    0,    0,    0],\n",
       "       [   0,    0,    0,    0, 1196,    1,    0,    0,    1,    2],\n",
       "       [   0,    0,    0,    0,    0, 1200,    0,    0,    0,    0],\n",
       "       [   0,    0,    0,    0,    0,    0, 1197,    2,    0,    1],\n",
       "       [   0,    0,    0,    2,    0,    0,    3, 1195,    0,    0],\n",
       "       [   0,    0,    0,    0,    0,    0,    0,    0, 1200,    0],\n",
       "       [   0,    0,    0,    0,    0,    0,    4,    0,    0, 1196]])"
      ]
     },
     "execution_count": 30,
     "metadata": {},
     "output_type": "execute_result"
    }
   ],
   "source": [
    "confusion_matrix(np.argmax(y_valid, axis=1), y_pred)"
   ]
  },
  {
   "cell_type": "markdown",
   "metadata": {
    "papermill": {
     "duration": 6.538309,
     "end_time": "2020-10-11T11:30:43.407998",
     "exception": false,
     "start_time": "2020-10-11T11:30:36.869689",
     "status": "completed"
    },
    "tags": []
   },
   "source": [
    "### Monte Carlo Drop Out"
   ]
  },
  {
   "cell_type": "markdown",
   "metadata": {
    "papermill": {
     "duration": 6.174644,
     "end_time": "2020-10-11T11:30:55.967562",
     "exception": false,
     "start_time": "2020-10-11T11:30:49.792918",
     "status": "completed"
    },
    "tags": []
   },
   "source": [
    "By using the drop out layers at inference we can get different predictions for the same digit (like an esemble method). "
   ]
  },
  {
   "cell_type": "code",
   "execution_count": 31,
   "metadata": {
    "execution": {
     "iopub.execute_input": "2020-10-11T11:31:09.267404Z",
     "iopub.status.busy": "2020-10-11T11:31:09.266106Z",
     "iopub.status.idle": "2020-10-11T11:32:35.496008Z",
     "shell.execute_reply": "2020-10-11T11:32:35.496863Z"
    },
    "papermill": {
     "duration": 92.627811,
     "end_time": "2020-10-11T11:32:35.497025",
     "exception": false,
     "start_time": "2020-10-11T11:31:02.869214",
     "status": "completed"
    },
    "tags": []
   },
   "outputs": [
    {
     "data": {
      "text/plain": [
       "0.9981666666666666"
      ]
     },
     "execution_count": 31,
     "metadata": {},
     "output_type": "execute_result"
    }
   ],
   "source": [
    "y_probas = np.stack([model(X_valid, training=True) for _ in range(100)])\n",
    "y_proba = y_probas.mean(axis=0)\n",
    "y_pred = np.argmax(y_proba, axis=1)\n",
    "accuracy_score(np.argmax(y_valid, axis=1), y_pred)"
   ]
  },
  {
   "cell_type": "markdown",
   "metadata": {
    "papermill": {
     "duration": 6.189838,
     "end_time": "2020-10-11T11:32:47.860376",
     "exception": false,
     "start_time": "2020-10-11T11:32:41.670538",
     "status": "completed"
    },
    "tags": []
   },
   "source": [
    "# Make Predictions"
   ]
  },
  {
   "cell_type": "code",
   "execution_count": 32,
   "metadata": {
    "execution": {
     "iopub.execute_input": "2020-10-11T11:33:00.917569Z",
     "iopub.status.busy": "2020-10-11T11:33:00.916524Z",
     "iopub.status.idle": "2020-10-11T11:33:01.578068Z",
     "shell.execute_reply": "2020-10-11T11:33:01.576755Z"
    },
    "papermill": {
     "duration": 7.218448,
     "end_time": "2020-10-11T11:33:01.578249",
     "exception": false,
     "start_time": "2020-10-11T11:32:54.359801",
     "status": "completed"
    },
    "tags": []
   },
   "outputs": [],
   "source": [
    "y_pred = model.predict_classes(X_test)"
   ]
  },
  {
   "cell_type": "code",
   "execution_count": 33,
   "metadata": {
    "execution": {
     "iopub.execute_input": "2020-10-11T11:33:14.470943Z",
     "iopub.status.busy": "2020-10-11T11:33:14.469528Z",
     "iopub.status.idle": "2020-10-11T11:33:46.758157Z",
     "shell.execute_reply": "2020-10-11T11:33:46.757172Z"
    },
    "papermill": {
     "duration": 38.711538,
     "end_time": "2020-10-11T11:33:46.758276",
     "exception": false,
     "start_time": "2020-10-11T11:33:08.046738",
     "status": "completed"
    },
    "tags": []
   },
   "outputs": [],
   "source": [
    "y_probas = np.stack([model(X_test, training=True) for _ in range(100)])\n",
    "y_proba = y_probas.mean(axis=0)\n",
    "y_pred_mcdo = np.argmax(y_proba, axis=1)"
   ]
  },
  {
   "cell_type": "code",
   "execution_count": 34,
   "metadata": {
    "execution": {
     "iopub.execute_input": "2020-10-11T11:33:59.844237Z",
     "iopub.status.busy": "2020-10-11T11:33:59.843587Z",
     "iopub.status.idle": "2020-10-11T11:33:59.858693Z",
     "shell.execute_reply": "2020-10-11T11:33:59.858177Z"
    },
    "papermill": {
     "duration": 6.624066,
     "end_time": "2020-10-11T11:33:59.858793",
     "exception": false,
     "start_time": "2020-10-11T11:33:53.234727",
     "status": "completed"
    },
    "tags": []
   },
   "outputs": [],
   "source": [
    "sample_sub = pd.read_csv(f\"{PATH}/sample_submission.csv\")\n",
    "sample_sub[\"label\"] = y_pred_mcdo"
   ]
  },
  {
   "cell_type": "code",
   "execution_count": 35,
   "metadata": {
    "execution": {
     "iopub.execute_input": "2020-10-11T11:34:12.638846Z",
     "iopub.status.busy": "2020-10-11T11:34:12.638061Z",
     "iopub.status.idle": "2020-10-11T11:34:12.894009Z",
     "shell.execute_reply": "2020-10-11T11:34:12.892977Z"
    },
    "papermill": {
     "duration": 6.353277,
     "end_time": "2020-10-11T11:34:12.894152",
     "exception": false,
     "start_time": "2020-10-11T11:34:06.540875",
     "status": "completed"
    },
    "tags": []
   },
   "outputs": [],
   "source": [
    "sample_sub.to_csv(\"submission.csv\", index=False)"
   ]
  }
 ],
 "metadata": {
  "kernelspec": {
   "display_name": "Python 3",
   "language": "python",
   "name": "python3"
  },
  "language_info": {
   "codemirror_mode": {
    "name": "ipython",
    "version": 3
   },
   "file_extension": ".py",
   "mimetype": "text/x-python",
   "name": "python",
   "nbconvert_exporter": "python",
   "pygments_lexer": "ipython3",
   "version": "3.7.9"
  },
  "papermill": {
   "duration": 1409.702178,
   "end_time": "2020-10-11T11:34:20.859114",
   "environment_variables": {},
   "exception": null,
   "input_path": "__notebook__.ipynb",
   "output_path": "__notebook__.ipynb",
   "parameters": {},
   "start_time": "2020-10-11T11:10:51.156936",
   "version": "2.1.0"
  }
 },
 "nbformat": 4,
 "nbformat_minor": 4
}
